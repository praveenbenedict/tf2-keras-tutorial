{
 "cells": [
  {
   "cell_type": "code",
   "execution_count": 1,
   "id": "cf97ab63-a0b2-4f9e-afc5-46d91f3cab48",
   "metadata": {},
   "outputs": [
    {
     "name": "stdout",
     "output_type": "stream",
     "text": [
      "Physical Devices [PhysicalDevice(name='/physical_device:GPU:0', device_type='GPU')]\n"
     ]
    }
   ],
   "source": [
    "import os \n",
    "os.environ['TF_CPP_MIN_LOG_LEVEL'] = '2'\n",
    "\n",
    "import tensorflow as tf\n",
    "from tensorflow import keras\n",
    "from tensorflow.keras import layers, regularizers\n",
    "from tensorflow.keras.datasets import mnist\n",
    "\n",
    "physical_devices = tf.config.list_physical_devices('GPU')\n",
    "print('Physical Devices', physical_devices)\n",
    "tf.config.experimental.set_memory_growth(physical_devices[0], True)"
   ]
  },
  {
   "cell_type": "markdown",
   "id": "68c90833-3627-4ffa-a602-b6abd73064ad",
   "metadata": {},
   "source": [
    "### Load MNIST data"
   ]
  },
  {
   "cell_type": "code",
   "execution_count": 2,
   "id": "b9b730ef-57d7-4c69-a4cb-98dbee513d6f",
   "metadata": {},
   "outputs": [
    {
     "name": "stdout",
     "output_type": "stream",
     "text": [
      "Downloading data from https://storage.googleapis.com/tensorflow/tf-keras-datasets/mnist.npz\n",
      "11490434/11490434 [==============================] - 0s 0us/step\n"
     ]
    }
   ],
   "source": [
    "(x_train, y_train), (x_test, y_test) = mnist.load_data()"
   ]
  },
  {
   "cell_type": "code",
   "execution_count": 3,
   "id": "99dad440-c050-4693-977b-a9212521f067",
   "metadata": {},
   "outputs": [],
   "source": [
    "x_train = x_train.reshape(-1, 28 * 28).astype('float32') /  255.\n",
    "x_test = x_test.reshape(-1, 28 * 28).astype('float32') /  255."
   ]
  },
  {
   "cell_type": "code",
   "execution_count": 4,
   "id": "ad37fd48-cdb0-4ece-8924-c3640ecbd4d5",
   "metadata": {},
   "outputs": [
    {
     "data": {
      "text/plain": [
       "(60000, 784)"
      ]
     },
     "execution_count": 4,
     "metadata": {},
     "output_type": "execute_result"
    }
   ],
   "source": [
    "x_train.shape"
   ]
  },
  {
   "cell_type": "markdown",
   "id": "1a986740-1ef1-4bea-b723-a40879c86a70",
   "metadata": {},
   "source": [
    "### Recreating Dense layer of Keras"
   ]
  },
  {
   "cell_type": "code",
   "execution_count": 5,
   "id": "bb929943-9488-4ee5-92bf-339c7bafa3c6",
   "metadata": {},
   "outputs": [],
   "source": [
    "class Dense(layers.Layer):\n",
    "    def __init__(self, units):\n",
    "        super(Dense, self).__init__()\n",
    "        self.units = units\n",
    "    \n",
    "    def build(self, input_shape):\n",
    "        self.w = self.add_weight(\n",
    "                name='w',\n",
    "                shape=(input_shape[-1], self.units), #Units -> Number of ouput units,\n",
    "                initializer='random_normal',\n",
    "                trainable=True\n",
    "            )\n",
    "\n",
    "        self.b = self.add_weight(\n",
    "            name='b', shape = (self.units, ), initializer='zeros', trainable=True\n",
    "        )\n",
    "    def call(self, inputs):\n",
    "        return tf.matmul(inputs, self.w) + self.b   "
   ]
  },
  {
   "cell_type": "code",
   "execution_count": 6,
   "id": "c36ece42-09ef-45d6-8378-0a2e3c08c934",
   "metadata": {},
   "outputs": [],
   "source": [
    "class MyReLU(layers.Layer):\n",
    "    def __init__(self):\n",
    "        super(MyReLU, self).__init__()\n",
    "    def call(self, x):\n",
    "        return tf.math.maximum(x, 0)"
   ]
  },
  {
   "cell_type": "code",
   "execution_count": 7,
   "id": "d5af5d22-8314-4d17-8fc2-ccfd308d5bcf",
   "metadata": {},
   "outputs": [],
   "source": [
    "# class MyModel(keras.Model):\n",
    "#     def __init__(self, num_classes = 10):\n",
    "#         super(MyModel, self).__init__()\n",
    "#         self.dense1 = layers.Dense(64)\n",
    "#         self.dense2 = layers.Dense(num_classes)\n",
    "        \n",
    "#     def call(self, input_tensor):\n",
    "#         x = tf.nn.relu(self.dense1(input_tensor))\n",
    "#         return self.dense2(x)\n",
    "\n",
    "class MyModel(keras.Model):\n",
    "    def __init__(self, num_classes = 10):\n",
    "        super(MyModel, self).__init__()\n",
    "        self.dense1 = Dense(64)\n",
    "        self.dense2 = Dense(num_classes)\n",
    "        self.relu = MyReLU()\n",
    "        \n",
    "    def call(self, input_tensor):\n",
    "        x = self.relu(self.dense1(input_tensor))\n",
    "        return self.dense2(x)\n"
   ]
  },
  {
   "cell_type": "code",
   "execution_count": 8,
   "id": "8f43c638-f93b-4f2b-bfba-1b8ed8c9f728",
   "metadata": {},
   "outputs": [],
   "source": [
    "model = MyModel()"
   ]
  },
  {
   "cell_type": "code",
   "execution_count": 9,
   "id": "005b3987-cd99-4034-ac5e-970accfe4b33",
   "metadata": {},
   "outputs": [],
   "source": [
    "model.compile(\n",
    "    loss = keras.losses.SparseCategoricalCrossentropy(from_logits=True),\n",
    "    optimizer = keras.optimizers.Adam(),\n",
    "    metrics = ['accuracy']\n",
    ")"
   ]
  },
  {
   "cell_type": "code",
   "execution_count": 10,
   "id": "d46dc7dc-a58d-45e0-8d37-09887bf48786",
   "metadata": {},
   "outputs": [
    {
     "name": "stdout",
     "output_type": "stream",
     "text": [
      "Epoch 1/2\n",
      "1875/1875 - 4s - loss: 0.3462 - accuracy: 0.9046 - 4s/epoch - 2ms/step\n",
      "Epoch 2/2\n",
      "1875/1875 - 3s - loss: 0.1640 - accuracy: 0.9525 - 3s/epoch - 2ms/step\n"
     ]
    },
    {
     "data": {
      "text/plain": [
       "<keras.callbacks.History at 0x7f4194042c10>"
      ]
     },
     "execution_count": 10,
     "metadata": {},
     "output_type": "execute_result"
    }
   ],
   "source": [
    "model.fit(x_train, y_train, batch_size=32, epochs=2, verbose=2)"
   ]
  },
  {
   "cell_type": "code",
   "execution_count": 11,
   "id": "b23efa74-2a24-4d0d-9cdd-31ec0e80744d",
   "metadata": {},
   "outputs": [
    {
     "name": "stdout",
     "output_type": "stream",
     "text": [
      "313/313 [==============================] - 1s 2ms/step - loss: 0.1335 - accuracy: 0.9591\n"
     ]
    },
    {
     "data": {
      "text/plain": [
       "[0.13350139558315277, 0.9591000080108643]"
      ]
     },
     "execution_count": 11,
     "metadata": {},
     "output_type": "execute_result"
    }
   ],
   "source": [
    "model.evaluate(x_test, y_test)"
   ]
  },
  {
   "cell_type": "code",
   "execution_count": null,
   "id": "84801b68-6544-4028-8997-333b8a7c13d5",
   "metadata": {},
   "outputs": [],
   "source": []
  },
  {
   "cell_type": "code",
   "execution_count": 12,
   "id": "9f2f1d93-f0f5-4e21-ad14-aefcc56f4554",
   "metadata": {},
   "outputs": [],
   "source": [
    "model.save_weights('saved_model/')"
   ]
  },
  {
   "cell_type": "code",
   "execution_count": 13,
   "id": "6480d240-8082-4385-9423-39bde7361fc9",
   "metadata": {},
   "outputs": [],
   "source": [
    "model = MyModel()"
   ]
  },
  {
   "cell_type": "code",
   "execution_count": 14,
   "id": "2da52879-b171-41d8-8056-05a6ea7dad31",
   "metadata": {},
   "outputs": [],
   "source": [
    "model.compile(\n",
    "    loss = keras.losses.SparseCategoricalCrossentropy(from_logits=True),\n",
    "    optimizer = keras.optimizers.Adam(),\n",
    "    metrics = ['accuracy']\n",
    ")"
   ]
  },
  {
   "cell_type": "code",
   "execution_count": 15,
   "id": "927ee9bc-dac7-455e-882b-2b735b5f096d",
   "metadata": {},
   "outputs": [
    {
     "name": "stdout",
     "output_type": "stream",
     "text": [
      "313/313 [==============================] - 1s 2ms/step - loss: 2.3151 - accuracy: 0.0590\n"
     ]
    },
    {
     "data": {
      "text/plain": [
       "[2.3151166439056396, 0.05900000035762787]"
      ]
     },
     "execution_count": 15,
     "metadata": {},
     "output_type": "execute_result"
    }
   ],
   "source": [
    "model.evaluate(x_test, y_test)"
   ]
  },
  {
   "cell_type": "code",
   "execution_count": 16,
   "id": "3ab0708f-d898-4793-8711-24c6049dcedb",
   "metadata": {},
   "outputs": [
    {
     "data": {
      "text/plain": [
       "<tensorflow.python.training.tracking.util.CheckpointLoadStatus at 0x7f41885450a0>"
      ]
     },
     "execution_count": 16,
     "metadata": {},
     "output_type": "execute_result"
    }
   ],
   "source": [
    "model.load_weights('saved_model/')"
   ]
  },
  {
   "cell_type": "code",
   "execution_count": 17,
   "id": "bdb59bc2-13fe-487a-abe6-ed838287fe1e",
   "metadata": {},
   "outputs": [
    {
     "name": "stdout",
     "output_type": "stream",
     "text": [
      "313/313 [==============================] - 1s 2ms/step - loss: 0.1335 - accuracy: 0.9591\n"
     ]
    },
    {
     "data": {
      "text/plain": [
       "[0.13350139558315277, 0.9591000080108643]"
      ]
     },
     "execution_count": 17,
     "metadata": {},
     "output_type": "execute_result"
    }
   ],
   "source": [
    "model.evaluate(x_test, y_test)"
   ]
  },
  {
   "cell_type": "code",
   "execution_count": null,
   "id": "6e1e688b-14cf-4dfa-bd3a-b63ef689307a",
   "metadata": {},
   "outputs": [],
   "source": []
  },
  {
   "cell_type": "code",
   "execution_count": 19,
   "id": "6e2689fe-d4c8-45f7-b7d0-4babbbed144a",
   "metadata": {},
   "outputs": [
    {
     "name": "stdout",
     "output_type": "stream",
     "text": [
      "INFO:tensorflow:Assets written to: complete_saved_model/assets\n"
     ]
    },
    {
     "name": "stderr",
     "output_type": "stream",
     "text": [
      "WARNING:absl:<__main__.Dense object at 0x7f423c19f0a0> has the same name 'Dense' as a built-in Keras object. Consider renaming <class '__main__.Dense'> to avoid naming conflicts when loading with `tf.keras.models.load_model`. If renaming is not possible, pass the object in the `custom_objects` parameter of the load function.\n",
      "WARNING:absl:<__main__.Dense object at 0x7f4194e3f310> has the same name 'Dense' as a built-in Keras object. Consider renaming <class '__main__.Dense'> to avoid naming conflicts when loading with `tf.keras.models.load_model`. If renaming is not possible, pass the object in the `custom_objects` parameter of the load function.\n"
     ]
    }
   ],
   "source": [
    "model.save('complete_saved_model/')"
   ]
  },
  {
   "cell_type": "code",
   "execution_count": 20,
   "id": "b5de97e2-2841-4f0b-8c07-46555a11f59a",
   "metadata": {},
   "outputs": [],
   "source": [
    "model = keras.models.load_model('complete_saved_model/')"
   ]
  },
  {
   "cell_type": "code",
   "execution_count": 21,
   "id": "df389a4f-baad-4f67-85e4-7f15c7705d44",
   "metadata": {},
   "outputs": [
    {
     "data": {
      "text/plain": [
       "<keras.saving.saved_model.load.MyModel at 0x7f41884ef610>"
      ]
     },
     "execution_count": 21,
     "metadata": {},
     "output_type": "execute_result"
    }
   ],
   "source": [
    "model"
   ]
  },
  {
   "cell_type": "code",
   "execution_count": null,
   "id": "50e77a24-3659-4356-b5d4-48b22d40bcd7",
   "metadata": {},
   "outputs": [],
   "source": []
  }
 ],
 "metadata": {
  "kernelspec": {
   "display_name": "Python 3 (ipykernel)",
   "language": "python",
   "name": "python3"
  },
  "language_info": {
   "codemirror_mode": {
    "name": "ipython",
    "version": 3
   },
   "file_extension": ".py",
   "mimetype": "text/x-python",
   "name": "python",
   "nbconvert_exporter": "python",
   "pygments_lexer": "ipython3",
   "version": "3.9.13"
  }
 },
 "nbformat": 4,
 "nbformat_minor": 5
}
