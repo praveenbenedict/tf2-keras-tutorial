{
 "cells": [
  {
   "cell_type": "code",
   "execution_count": 1,
   "id": "1c848cf3-0e51-483a-884a-f5d809e1fb82",
   "metadata": {},
   "outputs": [
    {
     "name": "stdout",
     "output_type": "stream",
     "text": [
      "Physical Devices [PhysicalDevice(name='/physical_device:GPU:0', device_type='GPU')]\n"
     ]
    }
   ],
   "source": [
    "import os \n",
    "os.environ['TF_CPP_MIN_LOG_LEVEL'] = '2'\n",
    "\n",
    "import tensorflow as tf\n",
    "physical_devices = tf.config.list_physical_devices('GPU')\n",
    "print('Physical Devices', physical_devices)\n",
    "tf.config.experimental.set_memory_growth(physical_devices[0], True)"
   ]
  },
  {
   "cell_type": "markdown",
   "id": "4b080da4-18a7-469f-aa0e-b3b747eb858d",
   "metadata": {},
   "source": [
    "### Initialization of tensors"
   ]
  },
  {
   "cell_type": "markdown",
   "id": "903245cd-b120-434f-bea8-b6e1c09b8a92",
   "metadata": {},
   "source": [
    "#### Declaring basic tensors"
   ]
  },
  {
   "cell_type": "code",
   "execution_count": 2,
   "id": "e81687ca-5dc4-481e-b8c8-2a3d7f1357c0",
   "metadata": {},
   "outputs": [
    {
     "name": "stdout",
     "output_type": "stream",
     "text": [
      "tf.Tensor(4, shape=(), dtype=int32)\n"
     ]
    }
   ],
   "source": [
    "x = tf.constant(4)\n",
    "print(x)"
   ]
  },
  {
   "cell_type": "markdown",
   "id": "fd1b96a6-a114-49b0-9eba-cd300cc2d8a9",
   "metadata": {},
   "source": [
    "The shape of the constant can be defined using shape parameters"
   ]
  },
  {
   "cell_type": "code",
   "execution_count": 3,
   "id": "ac378950-0294-4319-be6f-c11607c2a594",
   "metadata": {},
   "outputs": [
    {
     "name": "stdout",
     "output_type": "stream",
     "text": [
      "tf.Tensor([[4.]], shape=(1, 1), dtype=float32)\n"
     ]
    }
   ],
   "source": [
    "x = tf.constant(4., shape=(1, 1))\n",
    "print(x)"
   ]
  },
  {
   "cell_type": "markdown",
   "id": "5cfb262b-466f-44b0-a50c-285f476a6f77",
   "metadata": {},
   "source": [
    "The data type of the tensor can be defined using dtype parameter"
   ]
  },
  {
   "cell_type": "code",
   "execution_count": 4,
   "id": "7e98386c-d4da-4aad-8975-456862d2d0f1",
   "metadata": {},
   "outputs": [
    {
     "name": "stdout",
     "output_type": "stream",
     "text": [
      "tf.Tensor([[4.]], shape=(1, 1), dtype=float32)\n"
     ]
    }
   ],
   "source": [
    "x = tf.constant(4., shape=(1, 1), dtype=tf.float32)\n",
    "print(x)"
   ]
  },
  {
   "cell_type": "markdown",
   "id": "1591c4ee-0e7a-444e-bb53-e0e34083a40e",
   "metadata": {},
   "source": [
    "To declare matrices, just provide 2-dim list"
   ]
  },
  {
   "cell_type": "code",
   "execution_count": 5,
   "id": "c5db9581-fc5b-4ba0-bc4a-1b9518218b2c",
   "metadata": {},
   "outputs": [
    {
     "name": "stdout",
     "output_type": "stream",
     "text": [
      "tf.Tensor(\n",
      "[[1 2 4]\n",
      " [4 5 6]], shape=(2, 3), dtype=int32)\n"
     ]
    }
   ],
   "source": [
    "x = tf.constant([\n",
    "    [1, 2, 4],\n",
    "    [4, 5, 6]\n",
    "])\n",
    "print(x)"
   ]
  },
  {
   "cell_type": "markdown",
   "id": "e3bf8910-f72b-4602-8750-5ccd18ecb9ea",
   "metadata": {},
   "source": [
    "You can define the shape of the constant using the shape parameter as above"
   ]
  },
  {
   "cell_type": "code",
   "execution_count": 6,
   "id": "14d19a17-1949-438e-a220-15f0d15b921b",
   "metadata": {},
   "outputs": [
    {
     "name": "stdout",
     "output_type": "stream",
     "text": [
      "tf.Tensor(\n",
      "[[[1 2 4]\n",
      "  [4 5 6]]], shape=(1, 2, 3), dtype=int32)\n"
     ]
    }
   ],
   "source": [
    "x = tf.constant([\n",
    "    [1, 2, 4],\n",
    "    [4, 5, 6]\n",
    "], shape=(1, 2, 3))\n",
    "print(x)"
   ]
  },
  {
   "cell_type": "markdown",
   "id": "4adfaab7-45b6-44e3-bb2d-ff20d008cfe0",
   "metadata": {},
   "source": [
    "tf.ones accepts a tuple that contains the shape of the matrix. The matrix will be full of ones."
   ]
  },
  {
   "cell_type": "code",
   "execution_count": 7,
   "id": "cef946e2-384a-4653-b802-e87486541f18",
   "metadata": {},
   "outputs": [
    {
     "name": "stdout",
     "output_type": "stream",
     "text": [
      "tf.Tensor(\n",
      "[[1. 1. 1.]\n",
      " [1. 1. 1.]\n",
      " [1. 1. 1.]], shape=(3, 3), dtype=float32)\n"
     ]
    }
   ],
   "source": [
    "x = tf.ones((3, 3))\n",
    "print(x)"
   ]
  },
  {
   "cell_type": "markdown",
   "id": "7d80bfd5-68ee-4ee3-9a09-3616757c93dd",
   "metadata": {},
   "source": [
    "tf.zeros accepts a tuple that contains the shape of the matrix. The matrix will be full of ones."
   ]
  },
  {
   "cell_type": "code",
   "execution_count": 8,
   "id": "ce461eb4-02c3-4358-8956-a99d352c4ffb",
   "metadata": {},
   "outputs": [
    {
     "name": "stdout",
     "output_type": "stream",
     "text": [
      "tf.Tensor(\n",
      "[[0. 0. 0.]\n",
      " [0. 0. 0.]], shape=(2, 3), dtype=float32)\n"
     ]
    }
   ],
   "source": [
    "x = tf.zeros((2, 3))\n",
    "print(x)"
   ]
  },
  {
   "cell_type": "markdown",
   "id": "14448e0e-4aa0-4299-aaa7-74a244e9a0ba",
   "metadata": {},
   "source": [
    "tf.eye accepts a single number as parameter and provides a nxn Identity matrix"
   ]
  },
  {
   "cell_type": "code",
   "execution_count": 9,
   "id": "a1668ac9-0ffc-4cae-8faa-060adc741b9d",
   "metadata": {},
   "outputs": [
    {
     "name": "stdout",
     "output_type": "stream",
     "text": [
      "tf.Tensor(\n",
      "[[1. 0. 0.]\n",
      " [0. 1. 0.]\n",
      " [0. 0. 1.]], shape=(3, 3), dtype=float32)\n"
     ]
    }
   ],
   "source": [
    "x = tf.eye(3)\n",
    "print(x)"
   ]
  },
  {
   "cell_type": "markdown",
   "id": "2c8d03b2-7de7-4d5e-8be8-b0c22a3a2849",
   "metadata": {},
   "source": [
    "#### Declaring tensors with random values"
   ]
  },
  {
   "cell_type": "markdown",
   "id": "8041571f-c8f1-4866-96da-4970f6023537",
   "metadata": {},
   "source": [
    "tf.random.normal generates a tensor and fills them with numbers sampled from a Normal Distribution. It accepts a tuple as input which should contain the shape of the matrix"
   ]
  },
  {
   "cell_type": "code",
   "execution_count": 10,
   "id": "9c770565-7d50-443d-8943-f90dd178d4f3",
   "metadata": {},
   "outputs": [
    {
     "name": "stdout",
     "output_type": "stream",
     "text": [
      "tf.Tensor(\n",
      "[[-0.4364522  -1.4478421   0.48437837]\n",
      " [ 0.30637914 -0.38041568 -0.52069294]], shape=(2, 3), dtype=float32)\n"
     ]
    }
   ],
   "source": [
    "x = tf.random.normal((2, 3))\n",
    "print(x)"
   ]
  },
  {
   "cell_type": "markdown",
   "id": "f01483c0-1f33-4f2b-bd36-5cad3361ea0b",
   "metadata": {},
   "source": [
    "You can also define the mean and standard deviation of the normal distribution from which the numbers for the matrix should be sampled from. "
   ]
  },
  {
   "cell_type": "code",
   "execution_count": 11,
   "id": "72e4bb2e-f888-48dc-9537-3c0181b38bce",
   "metadata": {},
   "outputs": [
    {
     "name": "stdout",
     "output_type": "stream",
     "text": [
      "tf.Tensor(\n",
      "[[-0.58074695 -0.45162988  1.2388467 ]\n",
      " [ 1.1145473   0.9707474  -1.7167132 ]], shape=(2, 3), dtype=float32)\n"
     ]
    }
   ],
   "source": [
    "x = tf.random.normal((2, 3), mean=0, stddev=1)\n",
    "print(x)"
   ]
  },
  {
   "cell_type": "markdown",
   "id": "6fa4ec24-351c-41c6-9589-d96c9d060e32",
   "metadata": {},
   "source": [
    "tf.random.uniform generates a tensor and fills them with numbers sampled from a Uniform Distribution. It accepts a tuple as input which should contain the shape of the matrix. It accepts three parameters, the shape (first param), the minval and maxval which defines the minimum and maximum values for the uniform distribution"
   ]
  },
  {
   "cell_type": "code",
   "execution_count": 12,
   "id": "2c69447d-622d-4c43-b59f-a3ddc90f3370",
   "metadata": {},
   "outputs": [
    {
     "name": "stdout",
     "output_type": "stream",
     "text": [
      "tf.Tensor([[0.69552445 0.49353445 0.5680809 ]], shape=(1, 3), dtype=float32)\n"
     ]
    }
   ],
   "source": [
    "x = tf.random.uniform((1, 3), minval=0, maxval=1)\n",
    "print(x)"
   ]
  },
  {
   "cell_type": "markdown",
   "id": "a120c6f0-581d-4c3b-94d2-d616c8f8b83a",
   "metadata": {},
   "source": [
    "This is similar to the range function in python"
   ]
  },
  {
   "cell_type": "code",
   "execution_count": 13,
   "id": "f4e16213-4cb3-4bbd-9099-c857bc97bb6d",
   "metadata": {},
   "outputs": [
    {
     "name": "stdout",
     "output_type": "stream",
     "text": [
      "tf.Tensor([0 1 2 3 4 5 6 7 8], shape=(9,), dtype=int32)\n"
     ]
    }
   ],
   "source": [
    "x = tf.range(9)\n",
    "print(x)"
   ]
  },
  {
   "cell_type": "code",
   "execution_count": 14,
   "id": "a6a2270b-15fc-437d-8522-44401cef05f3",
   "metadata": {},
   "outputs": [
    {
     "name": "stdout",
     "output_type": "stream",
     "text": [
      "tf.Tensor([1 3 5 7 9], shape=(5,), dtype=int32)\n"
     ]
    }
   ],
   "source": [
    "x = tf.range(start=1, limit=10, delta=2)\n",
    "print(x)"
   ]
  },
  {
   "cell_type": "markdown",
   "id": "65fa84f8-08e4-49ba-8e38-5f58cfd0c512",
   "metadata": {},
   "source": [
    "#### Changing the datatype of an existing tensor"
   ]
  },
  {
   "cell_type": "markdown",
   "id": "6d763833-e475-4b27-9781-b355dc95b8ea",
   "metadata": {},
   "source": [
    "The tf.cast method accepts two parameters, the tensor itself and the dtype."
   ]
  },
  {
   "cell_type": "code",
   "execution_count": 15,
   "id": "1f522c1d-2ff7-459b-9138-134cf75afb71",
   "metadata": {},
   "outputs": [
    {
     "name": "stdout",
     "output_type": "stream",
     "text": [
      "tf.Tensor([1. 3. 5. 7. 9.], shape=(5,), dtype=float64)\n"
     ]
    }
   ],
   "source": [
    "x = tf.cast(x, dtype=tf.float64)\n",
    "print(x)"
   ]
  },
  {
   "cell_type": "markdown",
   "id": "dffd5906-e9a7-4ecc-9351-4d1c80d3ec3f",
   "metadata": {},
   "source": [
    "tf.float -> 16, 32, 64 ... tf.int -> 8, 16, 42, 64 ... tf.bool\n"
   ]
  },
  {
   "cell_type": "markdown",
   "id": "1812655e-6fe4-42ea-824e-fda0ad53c399",
   "metadata": {},
   "source": [
    "### Mathematical operations"
   ]
  },
  {
   "cell_type": "code",
   "execution_count": 16,
   "id": "51cfe0fe-9d11-4be2-955e-6aae0876602c",
   "metadata": {},
   "outputs": [],
   "source": [
    "x = tf.constant([1, 2, 3])\n",
    "y = tf.constant([9, 8, 7])"
   ]
  },
  {
   "cell_type": "markdown",
   "id": "a7ed80df-e506-413c-a4ff-d7f79595d585",
   "metadata": {},
   "source": [
    "#### Add (Element wise)"
   ]
  },
  {
   "cell_type": "code",
   "execution_count": 17,
   "id": "effb9760-9ffa-419f-b473-ef3a1c89f259",
   "metadata": {},
   "outputs": [
    {
     "name": "stdout",
     "output_type": "stream",
     "text": [
      "tf.Tensor([10 10 10], shape=(3,), dtype=int32)\n"
     ]
    }
   ],
   "source": [
    "z = tf.add(x, y)\n",
    "print(z)"
   ]
  },
  {
   "cell_type": "code",
   "execution_count": 18,
   "id": "015970e6-9ad9-428e-bd74-f37aaccde1c2",
   "metadata": {},
   "outputs": [
    {
     "name": "stdout",
     "output_type": "stream",
     "text": [
      "tf.Tensor([10 10 10], shape=(3,), dtype=int32)\n"
     ]
    }
   ],
   "source": [
    "z = x + y\n",
    "print(z)"
   ]
  },
  {
   "cell_type": "markdown",
   "id": "7fb7bee0-4bdf-44e1-8207-e28844538cdf",
   "metadata": {},
   "source": [
    "#### Subtract (Element wise)"
   ]
  },
  {
   "cell_type": "code",
   "execution_count": 19,
   "id": "27a457ee-6f18-461f-8e82-137fc616dc58",
   "metadata": {},
   "outputs": [
    {
     "name": "stdout",
     "output_type": "stream",
     "text": [
      "tf.Tensor([-8 -6 -4], shape=(3,), dtype=int32)\n"
     ]
    }
   ],
   "source": [
    "z = tf.subtract(x, y)\n",
    "print(z)"
   ]
  },
  {
   "cell_type": "code",
   "execution_count": 20,
   "id": "8be78390-857e-4cfd-97dc-6cee89edbc54",
   "metadata": {},
   "outputs": [
    {
     "name": "stdout",
     "output_type": "stream",
     "text": [
      "tf.Tensor([-8 -6 -4], shape=(3,), dtype=int32)\n"
     ]
    }
   ],
   "source": [
    "z = x - y\n",
    "print(z)"
   ]
  },
  {
   "cell_type": "markdown",
   "id": "62bf5542-e25e-40b4-844d-2c24449fcf1a",
   "metadata": {},
   "source": [
    "#### Divide (element wise)"
   ]
  },
  {
   "cell_type": "code",
   "execution_count": 21,
   "id": "24dacd21-2abb-4e3b-9439-21ec2010c7f5",
   "metadata": {},
   "outputs": [
    {
     "name": "stdout",
     "output_type": "stream",
     "text": [
      "tf.Tensor([0.11111111 0.25       0.42857143], shape=(3,), dtype=float64)\n"
     ]
    }
   ],
   "source": [
    "z = tf.divide(x, y)\n",
    "print(z)"
   ]
  },
  {
   "cell_type": "code",
   "execution_count": 22,
   "id": "e04a76d9-4f77-4b6b-a96d-eda5934ba576",
   "metadata": {},
   "outputs": [
    {
     "name": "stdout",
     "output_type": "stream",
     "text": [
      "tf.Tensor([0.11111111 0.25       0.42857143], shape=(3,), dtype=float64)\n"
     ]
    }
   ],
   "source": [
    "z = x/y\n",
    "print(z)"
   ]
  },
  {
   "cell_type": "markdown",
   "id": "25a808c4-953a-43dd-ba0b-a3695b25cd2a",
   "metadata": {},
   "source": [
    "#### Multiply (element wise)"
   ]
  },
  {
   "cell_type": "code",
   "execution_count": 23,
   "id": "234f4187-69b8-4180-80ce-969f72111fd9",
   "metadata": {},
   "outputs": [
    {
     "name": "stdout",
     "output_type": "stream",
     "text": [
      "tf.Tensor([ 9 16 21], shape=(3,), dtype=int32)\n"
     ]
    }
   ],
   "source": [
    "z = tf.multiply(x, y)\n",
    "print(z)"
   ]
  },
  {
   "cell_type": "code",
   "execution_count": 24,
   "id": "632c6d55-0409-4126-abb6-94bba77af89c",
   "metadata": {},
   "outputs": [
    {
     "name": "stdout",
     "output_type": "stream",
     "text": [
      "tf.Tensor([ 9 16 21], shape=(3,), dtype=int32)\n"
     ]
    }
   ],
   "source": [
    "z = x * y\n",
    "print(z)"
   ]
  },
  {
   "cell_type": "markdown",
   "id": "8707d1fc-1475-47ef-b71b-d353b86566e0",
   "metadata": {},
   "source": [
    "#### Dot product between vectors"
   ]
  },
  {
   "cell_type": "code",
   "execution_count": 25,
   "id": "5fa0ae04-087d-4657-9669-06268132c78a",
   "metadata": {},
   "outputs": [
    {
     "name": "stdout",
     "output_type": "stream",
     "text": [
      "tf.Tensor(46, shape=(), dtype=int32)\n"
     ]
    }
   ],
   "source": [
    "z = tf.tensordot(x, y, axes = 1)\n",
    "print(z)"
   ]
  },
  {
   "cell_type": "code",
   "execution_count": 26,
   "id": "918e2ac4-8f21-4277-9f40-820506ce8a1b",
   "metadata": {},
   "outputs": [
    {
     "name": "stdout",
     "output_type": "stream",
     "text": [
      "tf.Tensor(46, shape=(), dtype=int32)\n"
     ]
    }
   ],
   "source": [
    "z = tf.reduce_sum(x*y, axis=0)\n",
    "print(z)"
   ]
  },
  {
   "cell_type": "markdown",
   "id": "da92f426-7247-4d8e-9210-12b09704763a",
   "metadata": {},
   "source": [
    "#### Element wise power"
   ]
  },
  {
   "cell_type": "code",
   "execution_count": 27,
   "id": "82fa82fe-1edd-4140-aa6f-58c8aa41daf4",
   "metadata": {},
   "outputs": [
    {
     "name": "stdout",
     "output_type": "stream",
     "text": [
      "tf.Tensor([  1  32 243], shape=(3,), dtype=int32)\n"
     ]
    }
   ],
   "source": [
    "z = x**5\n",
    "print(z)"
   ]
  },
  {
   "cell_type": "markdown",
   "id": "8bc3f525-d64c-4b29-a324-b80b081cdf37",
   "metadata": {},
   "source": [
    "#### Matrix multiplication"
   ]
  },
  {
   "cell_type": "code",
   "execution_count": 29,
   "id": "f9d24520-9972-43a3-b239-85f442a45f6e",
   "metadata": {},
   "outputs": [],
   "source": [
    "x = tf.random.normal((2, 3))\n",
    "y = tf.random.normal((3, 4))"
   ]
  },
  {
   "cell_type": "code",
   "execution_count": 30,
   "id": "09b4612c-bed9-44eb-a7ca-44dff1cf615e",
   "metadata": {},
   "outputs": [
    {
     "name": "stdout",
     "output_type": "stream",
     "text": [
      "tf.Tensor(\n",
      "[[-0.32164192  0.37211114  0.58822286 -1.0153505 ]\n",
      " [-3.3202138   1.1921885   1.0310276  -3.4116802 ]], shape=(2, 4), dtype=float32)\n"
     ]
    }
   ],
   "source": [
    "z = tf.matmul(x, y)\n",
    "print(z)"
   ]
  },
  {
   "cell_type": "code",
   "execution_count": 31,
   "id": "126eea33-308b-4c74-8df5-21610680d36e",
   "metadata": {},
   "outputs": [
    {
     "name": "stdout",
     "output_type": "stream",
     "text": [
      "tf.Tensor(\n",
      "[[-0.32164192  0.37211114  0.58822286 -1.0153505 ]\n",
      " [-3.3202138   1.1921885   1.0310276  -3.4116802 ]], shape=(2, 4), dtype=float32)\n"
     ]
    }
   ],
   "source": [
    "z = x @ y\n",
    "print(z)"
   ]
  },
  {
   "cell_type": "markdown",
   "id": "8d2ba0ad-0486-4103-a6e8-881aa71acb4f",
   "metadata": {},
   "source": [
    "### Indexing"
   ]
  },
  {
   "cell_type": "code",
   "execution_count": 32,
   "id": "9cab9382-e536-4dec-97fd-c66e10e76963",
   "metadata": {},
   "outputs": [],
   "source": [
    "x = tf.constant([0, 1, 1, 2, 3, 1, 2, 3])"
   ]
  },
  {
   "cell_type": "code",
   "execution_count": 34,
   "id": "4666936e-4247-4e9f-aaee-ea39e06a2492",
   "metadata": {},
   "outputs": [
    {
     "name": "stdout",
     "output_type": "stream",
     "text": [
      "tf.Tensor([0 1 1 2 3 1 2 3], shape=(8,), dtype=int32)\n"
     ]
    }
   ],
   "source": [
    "print(x[:])"
   ]
  },
  {
   "cell_type": "code",
   "execution_count": 35,
   "id": "e5dd54e8-41d3-4d10-9a32-8ac133388212",
   "metadata": {},
   "outputs": [
    {
     "name": "stdout",
     "output_type": "stream",
     "text": [
      "tf.Tensor([1 1 2 3 1 2 3], shape=(7,), dtype=int32)\n"
     ]
    }
   ],
   "source": [
    "print(x[1:])"
   ]
  },
  {
   "cell_type": "code",
   "execution_count": 36,
   "id": "a4cb7eee-119e-4274-9ded-1be14ef60c6e",
   "metadata": {},
   "outputs": [
    {
     "name": "stdout",
     "output_type": "stream",
     "text": [
      "tf.Tensor([1 1], shape=(2,), dtype=int32)\n"
     ]
    }
   ],
   "source": [
    "print(x[1:3])"
   ]
  },
  {
   "cell_type": "code",
   "execution_count": 37,
   "id": "f2590f62-c087-4428-9c2f-daf6db4675ec",
   "metadata": {},
   "outputs": [
    {
     "name": "stdout",
     "output_type": "stream",
     "text": [
      "tf.Tensor([0 1 3 2], shape=(4,), dtype=int32)\n"
     ]
    }
   ],
   "source": [
    "print(x[::2])"
   ]
  },
  {
   "cell_type": "code",
   "execution_count": 38,
   "id": "6dfc27ed-b7f0-4796-83ef-9dcd8eaf37b4",
   "metadata": {},
   "outputs": [
    {
     "name": "stdout",
     "output_type": "stream",
     "text": [
      "tf.Tensor([3 2 1 3 2 1 1 0], shape=(8,), dtype=int32)\n"
     ]
    }
   ],
   "source": [
    "print(x[::-1])"
   ]
  },
  {
   "cell_type": "code",
   "execution_count": 39,
   "id": "0416753c-d8f7-43d9-ad40-41fe61fe53fd",
   "metadata": {},
   "outputs": [
    {
     "name": "stdout",
     "output_type": "stream",
     "text": [
      "tf.Tensor([0 2], shape=(2,), dtype=int32)\n"
     ]
    }
   ],
   "source": [
    "indices = tf.constant([0, 3])\n",
    "x_ind = tf.gather(x, indices)\n",
    "print(x_ind)"
   ]
  },
  {
   "cell_type": "code",
   "execution_count": 40,
   "id": "e6ff37da-6c4f-46c8-a5f0-ff448ea9fc31",
   "metadata": {},
   "outputs": [],
   "source": [
    "x = tf.constant([\n",
    "    [1, 2],\n",
    "    [3, 4], \n",
    "    [5, 6]\n",
    "])"
   ]
  },
  {
   "cell_type": "code",
   "execution_count": 41,
   "id": "f16e666b-f852-4df2-9d32-5de609d10872",
   "metadata": {},
   "outputs": [
    {
     "name": "stdout",
     "output_type": "stream",
     "text": [
      "tf.Tensor([1 2], shape=(2,), dtype=int32)\n"
     ]
    }
   ],
   "source": [
    "print(x[0, :])"
   ]
  },
  {
   "cell_type": "code",
   "execution_count": 42,
   "id": "0d56356b-9dba-44ff-a7f6-ea37d8a78b49",
   "metadata": {},
   "outputs": [
    {
     "name": "stdout",
     "output_type": "stream",
     "text": [
      "tf.Tensor(\n",
      "[[1 2]\n",
      " [3 4]], shape=(2, 2), dtype=int32)\n"
     ]
    }
   ],
   "source": [
    "print(x[0:2, :])"
   ]
  },
  {
   "cell_type": "code",
   "execution_count": 43,
   "id": "58ab64b3-f2b0-402e-94f7-24dabdf7a75a",
   "metadata": {},
   "outputs": [
    {
     "name": "stdout",
     "output_type": "stream",
     "text": [
      "tf.Tensor(\n",
      "[[1 2]\n",
      " [3 4]], shape=(2, 2), dtype=int32)\n"
     ]
    }
   ],
   "source": [
    "print(x[0:2])"
   ]
  },
  {
   "cell_type": "markdown",
   "id": "4d4b033c-4bb4-4626-9ec3-c4d8c81916bd",
   "metadata": {},
   "source": [
    "### Reshaping"
   ]
  },
  {
   "cell_type": "code",
   "execution_count": 44,
   "id": "2e7be496-6839-4d37-a754-c03af065b75f",
   "metadata": {},
   "outputs": [],
   "source": [
    "x = tf.range(9)"
   ]
  },
  {
   "cell_type": "code",
   "execution_count": 45,
   "id": "0a9008f8-205a-4bf9-bad8-277b18a8372b",
   "metadata": {},
   "outputs": [
    {
     "name": "stdout",
     "output_type": "stream",
     "text": [
      "tf.Tensor([0 1 2 3 4 5 6 7 8], shape=(9,), dtype=int32)\n"
     ]
    }
   ],
   "source": [
    "print(x)"
   ]
  },
  {
   "cell_type": "code",
   "execution_count": 47,
   "id": "f0817f03-e72d-44ac-978f-6fa769d6d046",
   "metadata": {},
   "outputs": [
    {
     "name": "stdout",
     "output_type": "stream",
     "text": [
      "tf.Tensor(\n",
      "[[0 1 2]\n",
      " [3 4 5]\n",
      " [6 7 8]], shape=(3, 3), dtype=int32)\n"
     ]
    }
   ],
   "source": [
    "x_ = tf.reshape(x, (3, 3))\n",
    "print(x_)"
   ]
  },
  {
   "cell_type": "code",
   "execution_count": 50,
   "id": "56cf8127-ef7d-405c-a768-13b69fa96040",
   "metadata": {},
   "outputs": [
    {
     "name": "stdout",
     "output_type": "stream",
     "text": [
      "tf.Tensor(\n",
      "[[0 3 6]\n",
      " [1 4 7]\n",
      " [2 5 8]], shape=(3, 3), dtype=int32)\n"
     ]
    }
   ],
   "source": [
    "x_t = tf.transpose(x, perm=[1, 0])\n",
    "print(x_t)"
   ]
  },
  {
   "cell_type": "code",
   "execution_count": null,
   "id": "20df9375-97c6-4b12-b1cf-fdb43a8e8fe3",
   "metadata": {},
   "outputs": [],
   "source": []
  }
 ],
 "metadata": {
  "kernelspec": {
   "display_name": "Python 3 (ipykernel)",
   "language": "python",
   "name": "python3"
  },
  "language_info": {
   "codemirror_mode": {
    "name": "ipython",
    "version": 3
   },
   "file_extension": ".py",
   "mimetype": "text/x-python",
   "name": "python",
   "nbconvert_exporter": "python",
   "pygments_lexer": "ipython3",
   "version": "3.9.13"
  }
 },
 "nbformat": 4,
 "nbformat_minor": 5
}
