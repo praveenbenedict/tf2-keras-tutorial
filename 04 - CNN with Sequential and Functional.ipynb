{
 "cells": [
  {
   "cell_type": "code",
   "execution_count": null,
   "id": "92b8594a-1c2a-49cb-ab46-2b079a82248f",
   "metadata": {},
   "outputs": [],
   "source": [
    "import os \n",
    "os.environ['TF_CPP_MIN_LOG_LEVEL'] = '2'\n",
    "\n",
    "import tensorflow as tf\n",
    "from tensorflow import keras\n",
    "from tensorflow.keras import layers\n",
    "from tensorflow.keras.datasets import cifar10\n",
    "\n",
    "physical_devices = tf.config.list_physical_devices('GPU')\n",
    "print('Physical Devices', physical_devices)\n",
    "tf.config.experimental.set_memory_growth(physical_devices[0], True)"
   ]
  },
  {
   "cell_type": "markdown",
   "id": "31ba9fe8-d57a-44ac-88e6-e1064d4c37d1",
   "metadata": {},
   "source": [
    "### Load Data"
   ]
  },
  {
   "cell_type": "code",
   "execution_count": null,
   "id": "ee0b194c-679a-4550-a20b-4e9377a44df1",
   "metadata": {},
   "outputs": [],
   "source": [
    "(x_train, y_train), (x_test, y_test) = cifar10.load_data()"
   ]
  },
  {
   "cell_type": "code",
   "execution_count": null,
   "id": "a595a9bf-f68b-4143-9ff2-e1a0f087ad93",
   "metadata": {},
   "outputs": [],
   "source": [
    "x_train = x_train.astype('float32') / 255.0\n",
    "x_test = x_test.astype('float32') / 255.0"
   ]
  },
  {
   "cell_type": "markdown",
   "id": "b94b5ff9-cb79-4853-8060-fdf28aa15193",
   "metadata": {},
   "source": [
    "### CNN model with Sequential API\n",
    "<br>\n",
    "Here we use layers.Conv2D() for adding convolution layers. We need to mandatorily provide the output channels, the size of the kernel. \n",
    "<ul>\n",
    "    <li> Output channels is just a number. </li>\n",
    "    <li> Kernel size can either be a number or a tuple. A number just creates a square kernel, while using tuples you can define kernels of rectangular shapes </li>\n",
    "</ul>\n",
    "\n",
    "Optionally, we can provide padding an activation to the function. The padding can have two values: same or valid. Giving 'same' ensures that the padding is added to ensure that the input and output shapes (height and width) are the same. Using 'valid' means no padding. "
   ]
  },
  {
   "cell_type": "code",
   "execution_count": null,
   "id": "be281b6b-b9e6-41b0-adfd-d7d316cc8814",
   "metadata": {},
   "outputs": [],
   "source": [
    "model = keras.Sequential(\n",
    " [\n",
    "     keras.Input(shape=(32, 32, 3)),\n",
    "     layers.Conv2D(32, 3, padding='same', activation='relu'), \n",
    "     layers.MaxPooling2D(pool_size=(2, 2)),\n",
    "     \n",
    "     layers.Conv2D(64, 3, padding='same', activation='relu'), \n",
    "     layers.MaxPooling2D(pool_size=(2, 2)),\n",
    "     \n",
    "     layers.Conv2D(128, 3, padding='same', activation='relu'), \n",
    "     layers.Flatten(),\n",
    "     layers.Dense(64, activation='relu'),\n",
    "     layers.Dense(10)\n",
    " ]   \n",
    ")"
   ]
  },
  {
   "cell_type": "code",
   "execution_count": null,
   "id": "f0b5c711-7517-48f3-979d-beb33fd424f4",
   "metadata": {},
   "outputs": [],
   "source": [
    "print(model.summary())"
   ]
  },
  {
   "cell_type": "code",
   "execution_count": null,
   "id": "3df54335-dfc0-48a6-9282-975d2b9f3d38",
   "metadata": {},
   "outputs": [],
   "source": [
    "model.compile(\n",
    "    loss = keras.losses.SparseCategoricalCrossentropy(from_logits=True),\n",
    "    optimizer = keras.optimizers.Adam(learning_rate=3e-4),\n",
    "    metrics=['accuracy']\n",
    ")"
   ]
  },
  {
   "cell_type": "code",
   "execution_count": null,
   "id": "908ea661-f5f9-49fa-8537-57a18670ae1b",
   "metadata": {},
   "outputs": [],
   "source": [
    "model.fit(x_train, y_train, batch_size=64, epochs=10, verbose=2)"
   ]
  },
  {
   "cell_type": "code",
   "execution_count": null,
   "id": "cd587544-8fb8-49fe-ab40-f4b7b2927843",
   "metadata": {},
   "outputs": [],
   "source": [
    "model.evaluate(x_test, y_test, batch_size=64, verbose=2)"
   ]
  },
  {
   "cell_type": "code",
   "execution_count": null,
   "id": "24cce1aa-cc5b-4303-a7bf-3aea88babec0",
   "metadata": {},
   "outputs": [],
   "source": [
    "model.summary()"
   ]
  },
  {
   "cell_type": "code",
   "execution_count": null,
   "id": "7efcc9df-297e-4428-b318-bc8340412213",
   "metadata": {},
   "outputs": [],
   "source": []
  },
  {
   "cell_type": "markdown",
   "id": "d828edd9-3cb4-4e2f-9660-92762bacc8a6",
   "metadata": {},
   "source": [
    "### Returning a Functional model from Functions"
   ]
  },
  {
   "cell_type": "code",
   "execution_count": null,
   "id": "bc419296-7bb4-4ed2-a53d-58b69477e70d",
   "metadata": {},
   "outputs": [],
   "source": [
    "def my_model():\n",
    "    inputs = keras.Input(shape=(32, 32, 3))\n",
    "    x = layers.Conv2D(32, 3)(inputs)\n",
    "    x = layers.BatchNormalization()(x)\n",
    "    x = keras.activations.relu(x)\n",
    "    x = layers.MaxPooling2D()(x)\n",
    "    \n",
    "    x = layers.Conv2D(64, 5, padding='same')(x)\n",
    "    x = layers.BatchNormalization()(x)\n",
    "    x = keras.activations.relu(x)\n",
    "    x = layers.MaxPooling2D()(x)\n",
    "    \n",
    "    x = layers.Conv2D(128, 3)(x)\n",
    "    x = layers.BatchNormalization()(x)\n",
    "    x = keras.activations.relu(x)\n",
    "\n",
    "    x = layers.Flatten()(x)\n",
    "    \n",
    "    x = layers.Dense(64, activation='relu')(x)\n",
    "    outputs = layers.Dense(10)(x)\n",
    "    \n",
    "    model = keras.Model(inputs=inputs, outputs=outputs)\n",
    "    return model"
   ]
  },
  {
   "cell_type": "code",
   "execution_count": null,
   "id": "47310073-656c-4c2b-b794-0950983767d8",
   "metadata": {},
   "outputs": [],
   "source": [
    "model = my_model()"
   ]
  },
  {
   "cell_type": "code",
   "execution_count": null,
   "id": "e5aaa662-6e1a-400b-a965-02705ed6074e",
   "metadata": {},
   "outputs": [],
   "source": [
    "model.summary()"
   ]
  },
  {
   "cell_type": "code",
   "execution_count": null,
   "id": "98085d6b-f075-42fa-9900-2cad4699809c",
   "metadata": {},
   "outputs": [],
   "source": [
    "model.compile(\n",
    "    loss = keras.losses.SparseCategoricalCrossentropy(from_logits=True),\n",
    "    optimizer = keras.optimizers.Adam(learning_rate=3e-4),\n",
    "    metrics=['accuracy']\n",
    ")"
   ]
  },
  {
   "cell_type": "code",
   "execution_count": null,
   "id": "b6cc8d39-086f-4367-aaab-292185a5f8fb",
   "metadata": {},
   "outputs": [],
   "source": [
    "model.fit(x_train, y_train, batch_size=64, epochs=10, verbose=2)"
   ]
  },
  {
   "cell_type": "code",
   "execution_count": null,
   "id": "dd82bd36-cbe1-4da6-81b2-9f8b41f769d5",
   "metadata": {},
   "outputs": [],
   "source": [
    "model.evaluate(x_test, y_test, batch_size=64, verbose=2)"
   ]
  },
  {
   "cell_type": "code",
   "execution_count": null,
   "id": "9750a987-644e-48bd-89f6-dfe12ee478fc",
   "metadata": {},
   "outputs": [],
   "source": []
  }
 ],
 "metadata": {
  "kernelspec": {
   "display_name": "Python 3 (ipykernel)",
   "language": "python",
   "name": "python3"
  },
  "language_info": {
   "codemirror_mode": {
    "name": "ipython",
    "version": 3
   },
   "file_extension": ".py",
   "mimetype": "text/x-python",
   "name": "python",
   "nbconvert_exporter": "python",
   "pygments_lexer": "ipython3",
   "version": "3.9.13"
  }
 },
 "nbformat": 4,
 "nbformat_minor": 5
}
