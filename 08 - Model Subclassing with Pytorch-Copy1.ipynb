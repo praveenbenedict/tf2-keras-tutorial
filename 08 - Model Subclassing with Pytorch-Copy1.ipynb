{
 "cells": [
  {
   "cell_type": "code",
   "execution_count": 1,
   "id": "cf97ab63-a0b2-4f9e-afc5-46d91f3cab48",
   "metadata": {},
   "outputs": [
    {
     "name": "stdout",
     "output_type": "stream",
     "text": [
      "Physical Devices [PhysicalDevice(name='/physical_device:GPU:0', device_type='GPU')]\n"
     ]
    }
   ],
   "source": [
    "import os \n",
    "os.environ['TF_CPP_MIN_LOG_LEVEL'] = '2'\n",
    "\n",
    "import tensorflow as tf\n",
    "from tensorflow import keras\n",
    "from tensorflow.keras import layers, regularizers\n",
    "from tensorflow.keras.datasets import mnist\n",
    "\n",
    "physical_devices = tf.config.list_physical_devices('GPU')\n",
    "print('Physical Devices', physical_devices)\n",
    "tf.config.experimental.set_memory_growth(physical_devices[0], True)"
   ]
  },
  {
   "cell_type": "markdown",
   "id": "65611ebb-f87d-4464-9899-96276873f5c0",
   "metadata": {},
   "source": [
    "### Load MNIST Data"
   ]
  },
  {
   "cell_type": "code",
   "execution_count": 2,
   "id": "b9b730ef-57d7-4c69-a4cb-98dbee513d6f",
   "metadata": {},
   "outputs": [],
   "source": [
    "(x_train, y_train), (x_test, y_test) = mnist.load_data()"
   ]
  },
  {
   "cell_type": "code",
   "execution_count": 3,
   "id": "99dad440-c050-4693-977b-a9212521f067",
   "metadata": {},
   "outputs": [],
   "source": [
    "x_train = x_train.reshape(-1, 28, 28, 1).astype('float32') /  255.\n",
    "x_test = x_test.reshape(-1, 28, 28, 1).astype('float32') /  255."
   ]
  },
  {
   "cell_type": "code",
   "execution_count": 4,
   "id": "ad37fd48-cdb0-4ece-8924-c3640ecbd4d5",
   "metadata": {},
   "outputs": [
    {
     "data": {
      "text/plain": [
       "(60000, 28, 28, 1)"
      ]
     },
     "execution_count": 4,
     "metadata": {},
     "output_type": "execute_result"
    }
   ],
   "source": [
    "x_train.shape"
   ]
  },
  {
   "cell_type": "markdown",
   "id": "aa28369b-e831-4870-b2aa-9b23e8bda268",
   "metadata": {},
   "source": [
    "### Model Subclassing\n",
    "\n",
    "Here the idea is to use the Layer class, inherit it and build a model the same way we would do in Pytorch. Here, we inherit the Layer class in keras.layers. \n",
    "We can define the layers the same way we do with Pytorch. Then, we can create an object the class, and then treat them the same way we would treat other Keras Layers. \n",
    "<br>\n",
    "The layers need to be defined in the __init__ method and the input to the layer and passing them to the layers should be done using the call method."
   ]
  },
  {
   "cell_type": "markdown",
   "id": "30c84662-8d2d-445a-826a-0f7b8923531e",
   "metadata": {},
   "source": [
    "#### Simple CNN Block\n",
    "We are going to declare a CNN block layer, which contains a conv layer, followed by a bn layer and then a Relu layer."
   ]
  },
  {
   "cell_type": "code",
   "execution_count": 5,
   "id": "2a41886d-e5d8-4425-b55b-622a28934d64",
   "metadata": {},
   "outputs": [],
   "source": [
    "class CNNBlock(layers.Layer):\n",
    "    def __init__(self, out_channels, kernel_size=3):\n",
    "        super(CNNBlock, self).__init__()\n",
    "        self.conv = layers.Conv2D(out_channels, kernel_size, padding='same')\n",
    "        self.bn = layers.BatchNormalization()\n",
    "    \n",
    "    def call(self, input_tensor, training = False):\n",
    "        x = self.conv(input_tensor)\n",
    "        x = self.bn(x, training=training)\n",
    "        x = tf.nn.relu(x)\n",
    "        return x"
   ]
  },
  {
   "cell_type": "markdown",
   "id": "f5a85005-e6d3-4b96-993c-0e039db0faa3",
   "metadata": {},
   "source": [
    "Now we are going to use the Class inside a Sequential Model. Just add the CNNBlock object to the Sequential."
   ]
  },
  {
   "cell_type": "code",
   "execution_count": 6,
   "id": "1f78bd0a-e02f-4a5e-a47e-9e6286a911d5",
   "metadata": {},
   "outputs": [],
   "source": [
    "model = keras.Sequential([\n",
    "    CNNBlock(32),\n",
    "    CNNBlock(64),\n",
    "    CNNBlock(128),\n",
    "    layers.Flatten(),\n",
    "    layers.Dense(10)\n",
    "])"
   ]
  },
  {
   "cell_type": "code",
   "execution_count": 7,
   "id": "b7122db9-8923-4359-bf4c-d8672fed3966",
   "metadata": {},
   "outputs": [
    {
     "name": "stderr",
     "output_type": "stream",
     "text": [
      "/usr/local/lib/python3.9/dist-packages/keras/optimizers/optimizer_v2/adam.py:110: UserWarning: The `lr` argument is deprecated, use `learning_rate` instead.\n",
      "  super(Adam, self).__init__(name, **kwargs)\n"
     ]
    }
   ],
   "source": [
    "model.compile(\n",
    "    loss = keras.losses.SparseCategoricalCrossentropy(from_logits=True),\n",
    "    optimizer = keras.optimizers.Adam(lr=0.001),\n",
    "    metrics=['accuracy']\n",
    ")"
   ]
  },
  {
   "cell_type": "code",
   "execution_count": 8,
   "id": "be3b599e-9859-4982-94cf-4ba633ccc8b9",
   "metadata": {},
   "outputs": [
    {
     "name": "stdout",
     "output_type": "stream",
     "text": [
      "Epoch 1/10\n",
      "938/938 - 12s - loss: 0.5886 - accuracy: 0.9465 - 12s/epoch - 13ms/step\n",
      "Epoch 2/10\n",
      "938/938 - 10s - loss: 0.0886 - accuracy: 0.9819 - 10s/epoch - 11ms/step\n",
      "Epoch 3/10\n",
      "938/938 - 10s - loss: 0.0344 - accuracy: 0.9896 - 10s/epoch - 10ms/step\n",
      "Epoch 4/10\n",
      "938/938 - 10s - loss: 0.0260 - accuracy: 0.9919 - 10s/epoch - 10ms/step\n",
      "Epoch 5/10\n",
      "938/938 - 10s - loss: 0.0253 - accuracy: 0.9917 - 10s/epoch - 11ms/step\n",
      "Epoch 6/10\n",
      "938/938 - 10s - loss: 0.0224 - accuracy: 0.9923 - 10s/epoch - 11ms/step\n",
      "Epoch 7/10\n",
      "938/938 - 10s - loss: 0.0171 - accuracy: 0.9944 - 10s/epoch - 10ms/step\n",
      "Epoch 8/10\n",
      "938/938 - 10s - loss: 0.0158 - accuracy: 0.9949 - 10s/epoch - 11ms/step\n",
      "Epoch 9/10\n",
      "938/938 - 10s - loss: 0.0118 - accuracy: 0.9959 - 10s/epoch - 10ms/step\n",
      "Epoch 10/10\n",
      "938/938 - 10s - loss: 0.0111 - accuracy: 0.9963 - 10s/epoch - 11ms/step\n"
     ]
    },
    {
     "data": {
      "text/plain": [
       "<keras.callbacks.History at 0x7fc3900e00d0>"
      ]
     },
     "execution_count": 8,
     "metadata": {},
     "output_type": "execute_result"
    }
   ],
   "source": [
    "model.fit(x_train, y_train, batch_size=64, epochs=10, verbose=2)"
   ]
  },
  {
   "cell_type": "code",
   "execution_count": 9,
   "id": "cba32747-bf65-4fd2-826f-07a128891ac8",
   "metadata": {},
   "outputs": [
    {
     "name": "stderr",
     "output_type": "stream",
     "text": [
      "WARNING:absl:Found untraced functions such as conv2d_layer_call_fn, conv2d_layer_call_and_return_conditional_losses, _jit_compiled_convolution_op, conv2d_1_layer_call_fn, conv2d_1_layer_call_and_return_conditional_losses while saving (showing 5 of 9). These functions will not be directly callable after loading.\n"
     ]
    },
    {
     "name": "stdout",
     "output_type": "stream",
     "text": [
      "INFO:tensorflow:Assets written to: pretrained_model/assets\n"
     ]
    },
    {
     "name": "stderr",
     "output_type": "stream",
     "text": [
      "INFO:tensorflow:Assets written to: pretrained_model/assets\n"
     ]
    }
   ],
   "source": [
    "model.save('pretrained_model/')"
   ]
  },
  {
   "cell_type": "markdown",
   "id": "e43cd2a8-5511-45e0-b27f-e51550b80292",
   "metadata": {},
   "source": [
    "#### Lets now move forward with creating Resnet Blocks"
   ]
  },
  {
   "cell_type": "markdown",
   "id": "56ad1b1e-b9d0-4214-8910-a7de7581aa3a",
   "metadata": {},
   "source": [
    "We'll make use of the CNN Block here. "
   ]
  },
  {
   "cell_type": "code",
   "execution_count": 16,
   "id": "47a4cb36-be26-48b9-b2c8-9eefa1e21bc9",
   "metadata": {},
   "outputs": [],
   "source": [
    "class ResBlock(layers.Layer):\n",
    "    def __init__(self, channels):\n",
    "        super(ResBlock, self).__init__()\n",
    "        self.cnn1 = CNNBlock(channels[0])\n",
    "        self.cnn2 = CNNBlock(channels[1])\n",
    "        self.cnn3 = CNNBlock(channels[2])\n",
    "        self.pooling = layers.MaxPooling2D()\n",
    "        \n",
    "        self.identity_mapping = layers.Conv2D(channels[1], 1, padding='same')\n",
    "        \n",
    "    def call(self, input_tensor, training=False):\n",
    "        x = self.cnn1(input_tensor, training=training) #out => channels[0]\n",
    "        x = self.cnn2(x, training=training) #out => channels[1]\n",
    "        x = self.cnn3(\n",
    "            x + self.identity_mapping(input_tensor), training=training\n",
    "        ) #out => channels[2]\n",
    "    \n",
    "        return self.pooling(x)"
   ]
  },
  {
   "cell_type": "markdown",
   "id": "6e826645-f3c8-421a-b70a-902d2812cdc0",
   "metadata": {},
   "source": [
    "Let's now use the ResBlock to create a simple ResNet"
   ]
  },
  {
   "cell_type": "code",
   "execution_count": 23,
   "id": "cf64f16c-a905-40cd-9579-ba022a347233",
   "metadata": {},
   "outputs": [],
   "source": [
    "class Resnet(keras.Model):\n",
    "    def __init__(self, num_classes=10):\n",
    "        super(Resnet, self).__init__()\n",
    "        self.block1 = ResBlock([32, 32, 64])\n",
    "        self.block2 = ResBlock([128, 128, 256])\n",
    "        self.block3 = ResBlock([128, 256, 512])\n",
    "        \n",
    "        self.pool = layers.GlobalAveragePooling2D()\n",
    "        \n",
    "        self.classifier = layers.Dense(10)\n",
    "        \n",
    "    def call(self, input_tensor, training=False):\n",
    "        x = self.block1(input_tensor, training=training)\n",
    "        x = self.block2(x, training=training)\n",
    "        x = self.block3(x, training=training)\n",
    "        x = self.pool(x) #(None, 512)\n",
    "        return self.classifier(x)"
   ]
  },
  {
   "cell_type": "code",
   "execution_count": 24,
   "id": "5ea3d137-62ca-40de-9341-031e77a6dbb1",
   "metadata": {},
   "outputs": [],
   "source": [
    "model = Resnet()"
   ]
  },
  {
   "cell_type": "code",
   "execution_count": 25,
   "id": "d83967b7-635f-4c0c-9967-a8da2b9947be",
   "metadata": {},
   "outputs": [],
   "source": [
    "model.compile(\n",
    "    loss = keras.losses.SparseCategoricalCrossentropy(from_logits=True),\n",
    "    optimizer = keras.optimizers.Adam(lr=0.001),\n",
    "    metrics=['accuracy']\n",
    ")"
   ]
  },
  {
   "cell_type": "code",
   "execution_count": 26,
   "id": "548ddbaa-05b9-4925-9f74-69dd589fc5f9",
   "metadata": {},
   "outputs": [
    {
     "name": "stdout",
     "output_type": "stream",
     "text": [
      "Epoch 1/10\n",
      "938/938 - 24s - loss: 0.0820 - accuracy: 0.9758 - 24s/epoch - 26ms/step\n",
      "Epoch 2/10\n",
      "938/938 - 21s - loss: 0.0344 - accuracy: 0.9893 - 21s/epoch - 23ms/step\n",
      "Epoch 3/10\n",
      "938/938 - 21s - loss: 0.0282 - accuracy: 0.9914 - 21s/epoch - 23ms/step\n",
      "Epoch 4/10\n",
      "938/938 - 22s - loss: 0.0239 - accuracy: 0.9925 - 22s/epoch - 23ms/step\n",
      "Epoch 5/10\n",
      "938/938 - 21s - loss: 0.0221 - accuracy: 0.9932 - 21s/epoch - 23ms/step\n",
      "Epoch 6/10\n",
      "938/938 - 21s - loss: 0.0189 - accuracy: 0.9940 - 21s/epoch - 23ms/step\n",
      "Epoch 7/10\n",
      "938/938 - 21s - loss: 0.0158 - accuracy: 0.9948 - 21s/epoch - 23ms/step\n",
      "Epoch 8/10\n",
      "938/938 - 21s - loss: 0.0138 - accuracy: 0.9954 - 21s/epoch - 23ms/step\n",
      "Epoch 9/10\n",
      "938/938 - 22s - loss: 0.0120 - accuracy: 0.9962 - 22s/epoch - 23ms/step\n",
      "Epoch 10/10\n",
      "938/938 - 21s - loss: 0.0143 - accuracy: 0.9953 - 21s/epoch - 22ms/step\n"
     ]
    },
    {
     "data": {
      "text/plain": [
       "<keras.callbacks.History at 0x7f9282e6ee50>"
      ]
     },
     "execution_count": 26,
     "metadata": {},
     "output_type": "execute_result"
    }
   ],
   "source": [
    "model.fit(x_train, y_train, batch_size=64, epochs=10, verbose=2)"
   ]
  },
  {
   "cell_type": "code",
   "execution_count": 27,
   "id": "1bb19a4b-3534-43b2-8b9b-dedbe382e459",
   "metadata": {},
   "outputs": [
    {
     "name": "stdout",
     "output_type": "stream",
     "text": [
      "Model: \"resnet_1\"\n",
      "_________________________________________________________________\n",
      " Layer (type)                Output Shape              Param #   \n",
      "=================================================================\n",
      " res_block_3 (ResBlock)      multiple                  28640     \n",
      "                                                                 \n",
      " res_block_4 (ResBlock)      multiple                  526976    \n",
      "                                                                 \n",
      " res_block_5 (ResBlock)      multiple                  1839744   \n",
      "                                                                 \n",
      " global_average_pooling2d_1   multiple                 0         \n",
      " (GlobalAveragePooling2D)                                        \n",
      "                                                                 \n",
      " dense_4 (Dense)             multiple                  5130      \n",
      "                                                                 \n",
      "=================================================================\n",
      "Total params: 2,400,490\n",
      "Trainable params: 2,397,418\n",
      "Non-trainable params: 3,072\n",
      "_________________________________________________________________\n"
     ]
    }
   ],
   "source": [
    "model.summary()"
   ]
  },
  {
   "cell_type": "code",
   "execution_count": null,
   "id": "0f3e41cc-e38e-4768-b24c-4b65550ce644",
   "metadata": {},
   "outputs": [],
   "source": []
  }
 ],
 "metadata": {
  "kernelspec": {
   "display_name": "Python 3 (ipykernel)",
   "language": "python",
   "name": "python3"
  },
  "language_info": {
   "codemirror_mode": {
    "name": "ipython",
    "version": 3
   },
   "file_extension": ".py",
   "mimetype": "text/x-python",
   "name": "python",
   "nbconvert_exporter": "python",
   "pygments_lexer": "ipython3",
   "version": "3.9.13"
  }
 },
 "nbformat": 4,
 "nbformat_minor": 5
}
