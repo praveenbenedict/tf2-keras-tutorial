{
 "cells": [
  {
   "cell_type": "code",
   "execution_count": 4,
   "id": "92b8594a-1c2a-49cb-ab46-2b079a82248f",
   "metadata": {},
   "outputs": [
    {
     "name": "stdout",
     "output_type": "stream",
     "text": [
      "Physical Devices [PhysicalDevice(name='/physical_device:GPU:0', device_type='GPU')]\n"
     ]
    }
   ],
   "source": [
    "import os \n",
    "os.environ['TF_CPP_MIN_LOG_LEVEL'] = '2'\n",
    "\n",
    "import tensorflow as tf\n",
    "from tensorflow import keras\n",
    "from tensorflow.keras import layers\n",
    "from tensorflow.keras.datasets import cifar10\n",
    "\n",
    "physical_devices = tf.config.list_physical_devices('GPU')\n",
    "print('Physical Devices', physical_devices)\n",
    "tf.config.experimental.set_memory_growth(physical_devices[0], True)"
   ]
  },
  {
   "cell_type": "code",
   "execution_count": 5,
   "id": "ee0b194c-679a-4550-a20b-4e9377a44df1",
   "metadata": {},
   "outputs": [],
   "source": [
    "(x_train, y_train), (x_test, y_test) = cifar10.load_data()"
   ]
  },
  {
   "cell_type": "code",
   "execution_count": 6,
   "id": "a595a9bf-f68b-4143-9ff2-e1a0f087ad93",
   "metadata": {},
   "outputs": [],
   "source": [
    "x_train = x_train.astype('float32') / 255.0\n",
    "x_test = x_test.astype('float32') / 255.0"
   ]
  },
  {
   "cell_type": "code",
   "execution_count": 9,
   "id": "be281b6b-b9e6-41b0-adfd-d7d316cc8814",
   "metadata": {},
   "outputs": [],
   "source": [
    "model = keras.Sequential(\n",
    " [\n",
    "     keras.Input(shape=(32, 32, 3)),\n",
    "     layers.Conv2D(32, 3, padding='same', activation='relu'), \n",
    "     layers.MaxPooling2D(pool_size=(2, 2)),\n",
    "     \n",
    "     layers.Conv2D(64, 3, padding='same', activation='relu'), \n",
    "     layers.MaxPooling2D(pool_size=(2, 2)),\n",
    "     \n",
    "     layers.Conv2D(128, 3, padding='same', activation='relu'), \n",
    "     layers.Flatten(),\n",
    "     layers.Dense(64, activation='relu'),\n",
    "     layers.Dense(10)\n",
    " ]   \n",
    ")"
   ]
  },
  {
   "cell_type": "code",
   "execution_count": 10,
   "id": "f0b5c711-7517-48f3-979d-beb33fd424f4",
   "metadata": {},
   "outputs": [
    {
     "name": "stdout",
     "output_type": "stream",
     "text": [
      "Model: \"sequential_1\"\n",
      "_________________________________________________________________\n",
      " Layer (type)                Output Shape              Param #   \n",
      "=================================================================\n",
      " conv2d_1 (Conv2D)           (None, 32, 32, 32)        896       \n",
      "                                                                 \n",
      " max_pooling2d_1 (MaxPooling  (None, 16, 16, 32)       0         \n",
      " 2D)                                                             \n",
      "                                                                 \n",
      " conv2d_2 (Conv2D)           (None, 16, 16, 64)        18496     \n",
      "                                                                 \n",
      " max_pooling2d_2 (MaxPooling  (None, 8, 8, 64)         0         \n",
      " 2D)                                                             \n",
      "                                                                 \n",
      " conv2d_3 (Conv2D)           (None, 8, 8, 128)         73856     \n",
      "                                                                 \n",
      " flatten (Flatten)           (None, 8192)              0         \n",
      "                                                                 \n",
      " dense (Dense)               (None, 64)                524352    \n",
      "                                                                 \n",
      " dense_1 (Dense)             (None, 10)                650       \n",
      "                                                                 \n",
      "=================================================================\n",
      "Total params: 618,250\n",
      "Trainable params: 618,250\n",
      "Non-trainable params: 0\n",
      "_________________________________________________________________\n",
      "None\n"
     ]
    }
   ],
   "source": [
    "print(model.summary())"
   ]
  },
  {
   "cell_type": "code",
   "execution_count": 12,
   "id": "3df54335-dfc0-48a6-9282-975d2b9f3d38",
   "metadata": {},
   "outputs": [],
   "source": [
    "model.compile(\n",
    "    loss = keras.losses.SparseCategoricalCrossentropy(from_logits=True),\n",
    "    optimizer = keras.optimizers.Adam(learning_rate=3e-4),\n",
    "    metrics=['accuracy']\n",
    ")"
   ]
  },
  {
   "cell_type": "code",
   "execution_count": 13,
   "id": "908ea661-f5f9-49fa-8537-57a18670ae1b",
   "metadata": {},
   "outputs": [
    {
     "name": "stdout",
     "output_type": "stream",
     "text": [
      "Epoch 1/10\n",
      "782/782 - 7s - loss: 1.5878 - accuracy: 0.4259 - 7s/epoch - 9ms/step\n",
      "Epoch 2/10\n",
      "782/782 - 3s - loss: 1.2091 - accuracy: 0.5729 - 3s/epoch - 4ms/step\n",
      "Epoch 3/10\n",
      "782/782 - 4s - loss: 1.0395 - accuracy: 0.6372 - 4s/epoch - 5ms/step\n",
      "Epoch 4/10\n",
      "782/782 - 3s - loss: 0.9369 - accuracy: 0.6717 - 3s/epoch - 4ms/step\n",
      "Epoch 5/10\n",
      "782/782 - 3s - loss: 0.8558 - accuracy: 0.7031 - 3s/epoch - 4ms/step\n",
      "Epoch 6/10\n",
      "782/782 - 3s - loss: 0.7972 - accuracy: 0.7238 - 3s/epoch - 4ms/step\n",
      "Epoch 7/10\n",
      "782/782 - 4s - loss: 0.7462 - accuracy: 0.7399 - 4s/epoch - 5ms/step\n",
      "Epoch 8/10\n",
      "782/782 - 3s - loss: 0.6969 - accuracy: 0.7587 - 3s/epoch - 4ms/step\n",
      "Epoch 9/10\n",
      "782/782 - 4s - loss: 0.6530 - accuracy: 0.7764 - 4s/epoch - 5ms/step\n",
      "Epoch 10/10\n",
      "782/782 - 3s - loss: 0.6160 - accuracy: 0.7865 - 3s/epoch - 4ms/step\n"
     ]
    },
    {
     "data": {
      "text/plain": [
       "<keras.callbacks.History at 0x7f50e6944d00>"
      ]
     },
     "execution_count": 13,
     "metadata": {},
     "output_type": "execute_result"
    }
   ],
   "source": [
    "model.fit(x_train, y_train, batch_size=64, epochs=10, verbose=2)"
   ]
  },
  {
   "cell_type": "code",
   "execution_count": 14,
   "id": "cd587544-8fb8-49fe-ab40-f4b7b2927843",
   "metadata": {},
   "outputs": [
    {
     "name": "stdout",
     "output_type": "stream",
     "text": [
      "157/157 - 1s - loss: 0.7654 - accuracy: 0.7343 - 742ms/epoch - 5ms/step\n"
     ]
    },
    {
     "data": {
      "text/plain": [
       "[0.7654155492782593, 0.7343000173568726]"
      ]
     },
     "execution_count": 14,
     "metadata": {},
     "output_type": "execute_result"
    }
   ],
   "source": [
    "model.evaluate(x_test, y_test, batch_size=64, verbose=2)"
   ]
  },
  {
   "cell_type": "code",
   "execution_count": 15,
   "id": "24cce1aa-cc5b-4303-a7bf-3aea88babec0",
   "metadata": {},
   "outputs": [
    {
     "name": "stdout",
     "output_type": "stream",
     "text": [
      "Model: \"sequential_1\"\n",
      "_________________________________________________________________\n",
      " Layer (type)                Output Shape              Param #   \n",
      "=================================================================\n",
      " conv2d_1 (Conv2D)           (None, 32, 32, 32)        896       \n",
      "                                                                 \n",
      " max_pooling2d_1 (MaxPooling  (None, 16, 16, 32)       0         \n",
      " 2D)                                                             \n",
      "                                                                 \n",
      " conv2d_2 (Conv2D)           (None, 16, 16, 64)        18496     \n",
      "                                                                 \n",
      " max_pooling2d_2 (MaxPooling  (None, 8, 8, 64)         0         \n",
      " 2D)                                                             \n",
      "                                                                 \n",
      " conv2d_3 (Conv2D)           (None, 8, 8, 128)         73856     \n",
      "                                                                 \n",
      " flatten (Flatten)           (None, 8192)              0         \n",
      "                                                                 \n",
      " dense (Dense)               (None, 64)                524352    \n",
      "                                                                 \n",
      " dense_1 (Dense)             (None, 10)                650       \n",
      "                                                                 \n",
      "=================================================================\n",
      "Total params: 618,250\n",
      "Trainable params: 618,250\n",
      "Non-trainable params: 0\n",
      "_________________________________________________________________\n"
     ]
    }
   ],
   "source": [
    "model.summary()"
   ]
  },
  {
   "cell_type": "code",
   "execution_count": null,
   "id": "7efcc9df-297e-4428-b318-bc8340412213",
   "metadata": {},
   "outputs": [],
   "source": []
  },
  {
   "cell_type": "code",
   "execution_count": null,
   "id": "6130ca66-4ec5-40ba-ac92-54853dc4babc",
   "metadata": {},
   "outputs": [],
   "source": []
  },
  {
   "cell_type": "code",
   "execution_count": 21,
   "id": "bc419296-7bb4-4ed2-a53d-58b69477e70d",
   "metadata": {},
   "outputs": [],
   "source": [
    "def my_model():\n",
    "    inputs = keras.Input(shape=(32, 32, 3))\n",
    "    x = layers.Conv2D(32, 3)(inputs)\n",
    "    x = layers.BatchNormalization()(x)\n",
    "    x = keras.activations.relu(x)\n",
    "    x = layers.MaxPooling2D()(x)\n",
    "    \n",
    "    x = layers.Conv2D(64, 5, padding='same')(x)\n",
    "    x = layers.BatchNormalization()(x)\n",
    "    x = keras.activations.relu(x)\n",
    "    x = layers.MaxPooling2D()(x)\n",
    "    \n",
    "    x = layers.Conv2D(128, 3)(x)\n",
    "    x = layers.BatchNormalization()(x)\n",
    "    x = keras.activations.relu(x)\n",
    "\n",
    "    x = layers.Flatten()(x)\n",
    "    \n",
    "    x = layers.Dense(64, activation='relu')(x)\n",
    "    outputs = layers.Dense(10)(x)\n",
    "    \n",
    "    model = keras.Model(inputs=inputs, outputs=outputs)\n",
    "    return model"
   ]
  },
  {
   "cell_type": "code",
   "execution_count": 22,
   "id": "47310073-656c-4c2b-b794-0950983767d8",
   "metadata": {},
   "outputs": [],
   "source": [
    "model = my_model()"
   ]
  },
  {
   "cell_type": "code",
   "execution_count": 23,
   "id": "e5aaa662-6e1a-400b-a965-02705ed6074e",
   "metadata": {},
   "outputs": [
    {
     "name": "stdout",
     "output_type": "stream",
     "text": [
      "Model: \"model_1\"\n",
      "_________________________________________________________________\n",
      " Layer (type)                Output Shape              Param #   \n",
      "=================================================================\n",
      " input_4 (InputLayer)        [(None, 32, 32, 3)]       0         \n",
      "                                                                 \n",
      " conv2d_7 (Conv2D)           (None, 30, 30, 32)        896       \n",
      "                                                                 \n",
      " batch_normalization_3 (Batc  (None, 30, 30, 32)       128       \n",
      " hNormalization)                                                 \n",
      "                                                                 \n",
      " tf.nn.relu_3 (TFOpLambda)   (None, 30, 30, 32)        0         \n",
      "                                                                 \n",
      " max_pooling2d_5 (MaxPooling  (None, 15, 15, 32)       0         \n",
      " 2D)                                                             \n",
      "                                                                 \n",
      " conv2d_8 (Conv2D)           (None, 15, 15, 64)        51264     \n",
      "                                                                 \n",
      " batch_normalization_4 (Batc  (None, 15, 15, 64)       256       \n",
      " hNormalization)                                                 \n",
      "                                                                 \n",
      " tf.nn.relu_4 (TFOpLambda)   (None, 15, 15, 64)        0         \n",
      "                                                                 \n",
      " max_pooling2d_6 (MaxPooling  (None, 7, 7, 64)         0         \n",
      " 2D)                                                             \n",
      "                                                                 \n",
      " conv2d_9 (Conv2D)           (None, 5, 5, 128)         73856     \n",
      "                                                                 \n",
      " batch_normalization_5 (Batc  (None, 5, 5, 128)        512       \n",
      " hNormalization)                                                 \n",
      "                                                                 \n",
      " tf.nn.relu_5 (TFOpLambda)   (None, 5, 5, 128)         0         \n",
      "                                                                 \n",
      " flatten_1 (Flatten)         (None, 3200)              0         \n",
      "                                                                 \n",
      " dense_4 (Dense)             (None, 64)                204864    \n",
      "                                                                 \n",
      " dense_5 (Dense)             (None, 10)                650       \n",
      "                                                                 \n",
      "=================================================================\n",
      "Total params: 332,426\n",
      "Trainable params: 331,978\n",
      "Non-trainable params: 448\n",
      "_________________________________________________________________\n"
     ]
    }
   ],
   "source": [
    "model.summary()"
   ]
  },
  {
   "cell_type": "code",
   "execution_count": 24,
   "id": "98085d6b-f075-42fa-9900-2cad4699809c",
   "metadata": {},
   "outputs": [],
   "source": [
    "model.compile(\n",
    "    loss = keras.losses.SparseCategoricalCrossentropy(from_logits=True),\n",
    "    optimizer = keras.optimizers.Adam(learning_rate=3e-4),\n",
    "    metrics=['accuracy']\n",
    ")"
   ]
  },
  {
   "cell_type": "code",
   "execution_count": 25,
   "id": "b6cc8d39-086f-4367-aaab-292185a5f8fb",
   "metadata": {},
   "outputs": [
    {
     "name": "stdout",
     "output_type": "stream",
     "text": [
      "Epoch 1/10\n",
      "782/782 - 5s - loss: 1.2830 - accuracy: 0.5422 - 5s/epoch - 6ms/step\n",
      "Epoch 2/10\n",
      "782/782 - 4s - loss: 0.8946 - accuracy: 0.6878 - 4s/epoch - 5ms/step\n",
      "Epoch 3/10\n",
      "782/782 - 4s - loss: 0.7371 - accuracy: 0.7431 - 4s/epoch - 5ms/step\n",
      "Epoch 4/10\n",
      "782/782 - 4s - loss: 0.6325 - accuracy: 0.7795 - 4s/epoch - 6ms/step\n",
      "Epoch 5/10\n",
      "782/782 - 4s - loss: 0.5508 - accuracy: 0.8080 - 4s/epoch - 5ms/step\n",
      "Epoch 6/10\n",
      "782/782 - 4s - loss: 0.4761 - accuracy: 0.8369 - 4s/epoch - 5ms/step\n",
      "Epoch 7/10\n",
      "782/782 - 4s - loss: 0.4079 - accuracy: 0.8593 - 4s/epoch - 5ms/step\n",
      "Epoch 8/10\n",
      "782/782 - 4s - loss: 0.3494 - accuracy: 0.8807 - 4s/epoch - 5ms/step\n",
      "Epoch 9/10\n",
      "782/782 - 4s - loss: 0.3035 - accuracy: 0.8970 - 4s/epoch - 5ms/step\n",
      "Epoch 10/10\n",
      "782/782 - 4s - loss: 0.2545 - accuracy: 0.9154 - 4s/epoch - 6ms/step\n"
     ]
    },
    {
     "data": {
      "text/plain": [
       "<keras.callbacks.History at 0x7f50e4382ac0>"
      ]
     },
     "execution_count": 25,
     "metadata": {},
     "output_type": "execute_result"
    }
   ],
   "source": [
    "model.fit(x_train, y_train, batch_size=64, epochs=10, verbose=2)"
   ]
  },
  {
   "cell_type": "code",
   "execution_count": 26,
   "id": "dd82bd36-cbe1-4da6-81b2-9f8b41f769d5",
   "metadata": {},
   "outputs": [
    {
     "name": "stdout",
     "output_type": "stream",
     "text": [
      "157/157 - 1s - loss: 0.8761 - accuracy: 0.7367 - 665ms/epoch - 4ms/step\n"
     ]
    },
    {
     "data": {
      "text/plain": [
       "[0.8761434555053711, 0.7366999983787537]"
      ]
     },
     "execution_count": 26,
     "metadata": {},
     "output_type": "execute_result"
    }
   ],
   "source": [
    "model.evaluate(x_test, y_test, batch_size=64, verbose=2)"
   ]
  },
  {
   "cell_type": "code",
   "execution_count": null,
   "id": "9750a987-644e-48bd-89f6-dfe12ee478fc",
   "metadata": {},
   "outputs": [],
   "source": []
  }
 ],
 "metadata": {
  "kernelspec": {
   "display_name": "Python 3 (ipykernel)",
   "language": "python",
   "name": "python3"
  },
  "language_info": {
   "codemirror_mode": {
    "name": "ipython",
    "version": 3
   },
   "file_extension": ".py",
   "mimetype": "text/x-python",
   "name": "python",
   "nbconvert_exporter": "python",
   "pygments_lexer": "ipython3",
   "version": "3.9.13"
  }
 },
 "nbformat": 4,
 "nbformat_minor": 5
}
