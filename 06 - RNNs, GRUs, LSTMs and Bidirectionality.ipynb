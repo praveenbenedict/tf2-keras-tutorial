{
 "cells": [
  {
   "cell_type": "code",
   "execution_count": 1,
   "id": "01a96287-de16-4790-917b-d1994d122ab2",
   "metadata": {},
   "outputs": [
    {
     "name": "stdout",
     "output_type": "stream",
     "text": [
      "Physical Devices [PhysicalDevice(name='/physical_device:GPU:0', device_type='GPU')]\n"
     ]
    }
   ],
   "source": [
    "import os \n",
    "os.environ['TF_CPP_MIN_LOG_LEVEL'] = '2'\n",
    "\n",
    "import tensorflow as tf\n",
    "from tensorflow import keras\n",
    "from tensorflow.keras import layers, regularizers\n",
    "from tensorflow.keras.datasets import mnist\n",
    "\n",
    "physical_devices = tf.config.list_physical_devices('GPU')\n",
    "print('Physical Devices', physical_devices)\n",
    "tf.config.experimental.set_memory_growth(physical_devices[0], True)"
   ]
  },
  {
   "cell_type": "markdown",
   "id": "5f15000e-b98b-47a3-bbc3-98cefacb227c",
   "metadata": {},
   "source": [
    "### Load MNIST Data"
   ]
  },
  {
   "cell_type": "code",
   "execution_count": 2,
   "id": "6a4029c9-6f0a-43bf-941b-27b517ff23af",
   "metadata": {},
   "outputs": [
    {
     "name": "stdout",
     "output_type": "stream",
     "text": [
      "Downloading data from https://storage.googleapis.com/tensorflow/tf-keras-datasets/mnist.npz\n",
      "11490434/11490434 [==============================] - 0s 0us/step\n"
     ]
    }
   ],
   "source": [
    "(x_train, y_train), (x_test, y_test) = mnist.load_data()"
   ]
  },
  {
   "cell_type": "code",
   "execution_count": 3,
   "id": "12bb8dba-5aef-46a2-9462-c98ef28a062f",
   "metadata": {},
   "outputs": [
    {
     "data": {
      "text/plain": [
       "(60000, 28, 28)"
      ]
     },
     "execution_count": 3,
     "metadata": {},
     "output_type": "execute_result"
    }
   ],
   "source": [
    "x_train.shape"
   ]
  },
  {
   "cell_type": "code",
   "execution_count": 4,
   "id": "28431c82-9162-4d73-af0c-afbd16c292b5",
   "metadata": {},
   "outputs": [],
   "source": [
    "x_train = x_train.astype('float32') /  255.\n",
    "x_test = x_test.astype('float32') /  255."
   ]
  },
  {
   "cell_type": "markdown",
   "id": "fc729034-6b19-4661-b8cd-b4ad630738a7",
   "metadata": {},
   "source": [
    "### RNN Model with Sequential API"
   ]
  },
  {
   "cell_type": "code",
   "execution_count": 5,
   "id": "169e41e6-bf1d-4d12-b3bc-f75f91e2574e",
   "metadata": {},
   "outputs": [],
   "source": [
    "model = keras.Sequential()"
   ]
  },
  {
   "cell_type": "code",
   "execution_count": 6,
   "id": "a747a835-3dc2-43b7-93f5-3c7ba36df876",
   "metadata": {},
   "outputs": [],
   "source": [
    "model.add(keras.Input(shape=(None, 28))) #None specifies number of timesteps. None means, number of timesteps can be anything. 28 specifies the embedding size"
   ]
  },
  {
   "cell_type": "code",
   "execution_count": null,
   "id": "15e74c10-2ec5-4a6f-bd47-e4cc2c6c7afb",
   "metadata": {},
   "outputs": [],
   "source": []
  },
  {
   "cell_type": "code",
   "execution_count": 7,
   "id": "42397e89-047f-4d00-968b-6d8e548eb19d",
   "metadata": {},
   "outputs": [],
   "source": [
    "model.add(\n",
    "    layers.SimpleRNN(512, return_sequences = True, activation = 'relu')\n",
    ")"
   ]
  },
  {
   "cell_type": "code",
   "execution_count": 8,
   "id": "dbbfa160-9950-4d4f-aacb-8ae8fadf0b85",
   "metadata": {},
   "outputs": [],
   "source": [
    "model.add(\n",
    "    layers.SimpleRNN(512, activation = 'relu')\n",
    ")"
   ]
  },
  {
   "cell_type": "code",
   "execution_count": 9,
   "id": "cdaedeea-2f92-48bc-9d30-356a66b15444",
   "metadata": {},
   "outputs": [],
   "source": [
    "model.add(layers.Dense(10))"
   ]
  },
  {
   "cell_type": "code",
   "execution_count": 10,
   "id": "7504849a-9375-4a97-8bdf-7e31189a5f43",
   "metadata": {},
   "outputs": [
    {
     "name": "stdout",
     "output_type": "stream",
     "text": [
      "Model: \"sequential\"\n",
      "_________________________________________________________________\n",
      " Layer (type)                Output Shape              Param #   \n",
      "=================================================================\n",
      " simple_rnn (SimpleRNN)      (None, None, 512)         276992    \n",
      "                                                                 \n",
      " simple_rnn_1 (SimpleRNN)    (None, 512)               524800    \n",
      "                                                                 \n",
      " dense (Dense)               (None, 10)                5130      \n",
      "                                                                 \n",
      "=================================================================\n",
      "Total params: 806,922\n",
      "Trainable params: 806,922\n",
      "Non-trainable params: 0\n",
      "_________________________________________________________________\n"
     ]
    }
   ],
   "source": [
    "model.summary()"
   ]
  },
  {
   "cell_type": "code",
   "execution_count": 11,
   "id": "4a484dee-97e1-4a94-887c-3a34d869fe8a",
   "metadata": {},
   "outputs": [
    {
     "name": "stderr",
     "output_type": "stream",
     "text": [
      "/usr/local/lib/python3.9/dist-packages/keras/optimizers/optimizer_v2/adam.py:110: UserWarning: The `lr` argument is deprecated, use `learning_rate` instead.\n",
      "  super(Adam, self).__init__(name, **kwargs)\n"
     ]
    }
   ],
   "source": [
    "model.compile(\n",
    "    loss = keras.losses.SparseCategoricalCrossentropy(from_logits=True),\n",
    "    optimizer = keras.optimizers.Adam(lr=0.001),\n",
    "    metrics=['accuracy']\n",
    ")"
   ]
  },
  {
   "cell_type": "code",
   "execution_count": 12,
   "id": "740e9644-4ba7-4400-af48-1faafe46375b",
   "metadata": {},
   "outputs": [
    {
     "name": "stdout",
     "output_type": "stream",
     "text": [
      "Epoch 1/10\n",
      "938/938 - 53s - loss: 0.3033 - accuracy: 0.9072 - 53s/epoch - 57ms/step\n",
      "Epoch 2/10\n",
      "938/938 - 52s - loss: 0.1461 - accuracy: 0.9603 - 52s/epoch - 55ms/step\n",
      "Epoch 3/10\n",
      "938/938 - 51s - loss: 0.1154 - accuracy: 0.9684 - 51s/epoch - 54ms/step\n",
      "Epoch 4/10\n",
      "938/938 - 50s - loss: 0.0933 - accuracy: 0.9748 - 50s/epoch - 53ms/step\n",
      "Epoch 5/10\n",
      "938/938 - 50s - loss: 0.0911 - accuracy: 0.9752 - 50s/epoch - 54ms/step\n",
      "Epoch 6/10\n",
      "938/938 - 51s - loss: 0.0852 - accuracy: 0.9773 - 51s/epoch - 54ms/step\n",
      "Epoch 7/10\n",
      "938/938 - 51s - loss: 0.0731 - accuracy: 0.9803 - 51s/epoch - 54ms/step\n",
      "Epoch 8/10\n",
      "938/938 - 53s - loss: 0.0697 - accuracy: 0.9807 - 53s/epoch - 56ms/step\n",
      "Epoch 9/10\n",
      "938/938 - 55s - loss: 0.0663 - accuracy: 0.9822 - 55s/epoch - 59ms/step\n",
      "Epoch 10/10\n",
      "938/938 - 52s - loss: 0.0682 - accuracy: 0.9812 - 52s/epoch - 55ms/step\n"
     ]
    },
    {
     "data": {
      "text/plain": [
       "<keras.callbacks.History at 0x7fdbd03cdf40>"
      ]
     },
     "execution_count": 12,
     "metadata": {},
     "output_type": "execute_result"
    }
   ],
   "source": [
    "model.fit(x_train, y_train, batch_size=64, epochs=10, verbose=2)layers"
   ]
  },
  {
   "cell_type": "code",
   "execution_count": null,
   "id": "156b2a4b-50f2-4cfc-be44-826d2d31492e",
   "metadata": {},
   "outputs": [],
   "source": []
  },
  {
   "cell_type": "markdown",
   "id": "ba856774-50ae-4539-8a74-bcc347c970a9",
   "metadata": {},
   "source": [
    "### GRU Model with Sequential API"
   ]
  },
  {
   "cell_type": "code",
   "execution_count": 17,
   "id": "2e7ec8e4-d1ba-4ebc-83ec-88c8e6558cb7",
   "metadata": {},
   "outputs": [
    {
     "name": "stdout",
     "output_type": "stream",
     "text": [
      "Model: \"sequential_2\"\n",
      "_________________________________________________________________\n",
      " Layer (type)                Output Shape              Param #   \n",
      "=================================================================\n",
      " gru_2 (GRU)                 (None, None, 512)         832512    \n",
      "                                                                 \n",
      " gru_3 (GRU)                 (None, 512)               1575936   \n",
      "                                                                 \n",
      " dense_2 (Dense)             (None, 10)                5130      \n",
      "                                                                 \n",
      "=================================================================\n",
      "Total params: 2,413,578\n",
      "Trainable params: 2,413,578\n",
      "Non-trainable params: 0\n",
      "_________________________________________________________________\n"
     ]
    }
   ],
   "source": [
    "model = keras.Sequential()\n",
    "model.add(keras.Input(shape=(None, 28))) #None specifies number of timesteps. None means, number of timesteps can be anything. 28 specifies the embedding size\n",
    "model.add(\n",
    "        layers.GRU(512, return_sequences = True, activation = 'tanh')\n",
    ")\n",
    "model.add(\n",
    "    layers.GRU(512, activation = 'tanh')\n",
    ")\n",
    "model.add(layers.Dense(10))\n",
    "model.summary()"
   ]
  },
  {
   "cell_type": "code",
   "execution_count": 18,
   "id": "3bf12e12-74ba-4693-b921-0030adca3e1c",
   "metadata": {},
   "outputs": [],
   "source": [
    "model.compile(\n",
    "    loss = keras.losses.SparseCategoricalCrossentropy(from_logits=True),\n",
    "    optimizer = keras.optimizers.Adam(lr=0.001),\n",
    "    metrics=['accuracy']\n",
    ")"
   ]
  },
  {
   "cell_type": "code",
   "execution_count": 19,
   "id": "446ca03a-e1eb-465f-a802-585fce0fddff",
   "metadata": {},
   "outputs": [
    {
     "name": "stdout",
     "output_type": "stream",
     "text": [
      "Epoch 1/10\n",
      "938/938 - 20s - loss: 0.2401 - accuracy: 0.9212 - 20s/epoch - 21ms/step\n",
      "Epoch 2/10\n",
      "938/938 - 12s - loss: 0.0604 - accuracy: 0.9817 - 12s/epoch - 13ms/step\n",
      "Epoch 3/10\n",
      "938/938 - 12s - loss: 0.0465 - accuracy: 0.9859 - 12s/epoch - 13ms/step\n",
      "Epoch 4/10\n",
      "938/938 - 12s - loss: 0.0352 - accuracy: 0.9885 - 12s/epoch - 13ms/step\n",
      "Epoch 5/10\n",
      "938/938 - 12s - loss: 0.0275 - accuracy: 0.9915 - 12s/epoch - 13ms/step\n",
      "Epoch 6/10\n",
      "938/938 - 12s - loss: 0.0238 - accuracy: 0.9925 - 12s/epoch - 13ms/step\n",
      "Epoch 7/10\n",
      "938/938 - 12s - loss: 0.0236 - accuracy: 0.9926 - 12s/epoch - 13ms/step\n",
      "Epoch 8/10\n",
      "938/938 - 12s - loss: 0.0192 - accuracy: 0.9940 - 12s/epoch - 13ms/step\n",
      "Epoch 9/10\n",
      "938/938 - 12s - loss: 0.0174 - accuracy: 0.9947 - 12s/epoch - 13ms/step\n",
      "Epoch 10/10\n",
      "938/938 - 12s - loss: 0.0161 - accuracy: 0.9950 - 12s/epoch - 13ms/step\n"
     ]
    },
    {
     "data": {
      "text/plain": [
       "<keras.callbacks.History at 0x7fdb38046700>"
      ]
     },
     "execution_count": 19,
     "metadata": {},
     "output_type": "execute_result"
    }
   ],
   "source": [
    "model.fit(x_train, y_train, batch_size=64, epochs=10, verbose=2)"
   ]
  },
  {
   "cell_type": "code",
   "execution_count": null,
   "id": "899f5d9c-eab0-4ff3-8670-b9f8a1cfeaa0",
   "metadata": {},
   "outputs": [],
   "source": []
  },
  {
   "cell_type": "markdown",
   "id": "a87f42a3-a0bc-4d5e-b728-9987651aa95f",
   "metadata": {},
   "source": [
    "### LSTM Model with Sequential API"
   ]
  },
  {
   "cell_type": "code",
   "execution_count": 20,
   "id": "23622ae6-e544-437b-8ae5-c3760b1f6bab",
   "metadata": {},
   "outputs": [
    {
     "name": "stdout",
     "output_type": "stream",
     "text": [
      "Model: \"sequential_3\"\n",
      "_________________________________________________________________\n",
      " Layer (type)                Output Shape              Param #   \n",
      "=================================================================\n",
      " lstm (LSTM)                 (None, None, 512)         1107968   \n",
      "                                                                 \n",
      " lstm_1 (LSTM)               (None, 512)               2099200   \n",
      "                                                                 \n",
      " dense_3 (Dense)             (None, 10)                5130      \n",
      "                                                                 \n",
      "=================================================================\n",
      "Total params: 3,212,298\n",
      "Trainable params: 3,212,298\n",
      "Non-trainable params: 0\n",
      "_________________________________________________________________\n"
     ]
    }
   ],
   "source": [
    "model = keras.Sequential()\n",
    "model.add(keras.Input(shape=(None, 28))) #None specifies number of timesteps. None means, number of timesteps can be anything. 28 specifies the embedding size\n",
    "model.add(\n",
    "        layers.LSTM(512, return_sequences = True, activation = 'tanh')\n",
    ")\n",
    "model.add(\n",
    "    layers.LSTM(512, activation = 'tanh')\n",
    ")\n",
    "model.add(layers.Dense(10))\n",
    "model.summary()"
   ]
  },
  {
   "cell_type": "code",
   "execution_count": 21,
   "id": "e63e9abf-8a0b-4282-b252-b9610af2c189",
   "metadata": {},
   "outputs": [],
   "source": [
    "model.compile(\n",
    "    loss = keras.losses.SparseCategoricalCrossentropy(from_logits=True),\n",
    "    optimizer = keras.optimizers.Adam(lr=0.001),\n",
    "    metrics=['accuracy']\n",
    ")"
   ]
  },
  {
   "cell_type": "code",
   "execution_count": 22,
   "id": "a41465e6-01e5-43f4-8d02-d741f6e91020",
   "metadata": {},
   "outputs": [
    {
     "name": "stdout",
     "output_type": "stream",
     "text": [
      "Epoch 1/10\n",
      "938/938 - 18s - loss: 0.2880 - accuracy: 0.9060 - 18s/epoch - 19ms/step\n",
      "Epoch 2/10\n",
      "938/938 - 15s - loss: 0.0808 - accuracy: 0.9750 - 15s/epoch - 16ms/step\n",
      "Epoch 3/10\n",
      "938/938 - 14s - loss: 0.0557 - accuracy: 0.9830 - 14s/epoch - 15ms/step\n",
      "Epoch 4/10\n",
      "938/938 - 15s - loss: 0.0420 - accuracy: 0.9869 - 15s/epoch - 15ms/step\n",
      "Epoch 5/10\n",
      "938/938 - 14s - loss: 0.0374 - accuracy: 0.9886 - 14s/epoch - 15ms/step\n",
      "Epoch 6/10\n",
      "938/938 - 15s - loss: 0.0288 - accuracy: 0.9912 - 15s/epoch - 16ms/step\n",
      "Epoch 7/10\n",
      "938/938 - 15s - loss: 0.0258 - accuracy: 0.9920 - 15s/epoch - 16ms/step\n",
      "Epoch 8/10\n",
      "938/938 - 15s - loss: 0.0216 - accuracy: 0.9932 - 15s/epoch - 16ms/step\n",
      "Epoch 9/10\n",
      "938/938 - 15s - loss: 0.0206 - accuracy: 0.9937 - 15s/epoch - 16ms/step\n",
      "Epoch 10/10\n",
      "938/938 - 15s - loss: 0.0180 - accuracy: 0.9943 - 15s/epoch - 16ms/step\n"
     ]
    },
    {
     "data": {
      "text/plain": [
       "<keras.callbacks.History at 0x7fdb1c0eb4f0>"
      ]
     },
     "execution_count": 22,
     "metadata": {},
     "output_type": "execute_result"
    }
   ],
   "source": [
    "model.fit(x_train, y_train, batch_size=64, epochs=10, verbose=2)"
   ]
  },
  {
   "cell_type": "code",
   "execution_count": null,
   "id": "766cb456-a2c6-4820-bb3b-5d0df5b0ae9a",
   "metadata": {},
   "outputs": [],
   "source": []
  },
  {
   "cell_type": "markdown",
   "id": "f1e2cb9c-3f7c-4c19-80c5-eb5880a74b5a",
   "metadata": {},
   "source": [
    "### Bidrectional LSTM with Sequential API"
   ]
  },
  {
   "cell_type": "code",
   "execution_count": 23,
   "id": "3faf1019-499b-46ed-ada7-02e03bc3f0a2",
   "metadata": {},
   "outputs": [
    {
     "name": "stdout",
     "output_type": "stream",
     "text": [
      "Model: \"sequential_4\"\n",
      "_________________________________________________________________\n",
      " Layer (type)                Output Shape              Param #   \n",
      "=================================================================\n",
      " bidirectional (Bidirectiona  (None, None, 1024)       2215936   \n",
      " l)                                                              \n",
      "                                                                 \n",
      " bidirectional_1 (Bidirectio  (None, 1024)             6295552   \n",
      " nal)                                                            \n",
      "                                                                 \n",
      " dense_4 (Dense)             (None, 10)                10250     \n",
      "                                                                 \n",
      "=================================================================\n",
      "Total params: 8,521,738\n",
      "Trainable params: 8,521,738\n",
      "Non-trainable params: 0\n",
      "_________________________________________________________________\n"
     ]
    }
   ],
   "source": [
    "model = keras.Sequential()\n",
    "model.add(keras.Input(shape=(None, 28))) #None specifies number of timesteps. None means, number of timesteps can be anything. 28 specifies the embedding size\n",
    "model.add(\n",
    "    layers.Bidirectional(\n",
    "        layers.LSTM(512, return_sequences = True, activation = 'tanh')\n",
    "    )\n",
    ")\n",
    "model.add(\n",
    "    layers.Bidirectional(\n",
    "        layers.LSTM(512, activation = 'tanh')\n",
    "    )\n",
    ")\n",
    "model.add(layers.Dense(10))\n",
    "model.summary()"
   ]
  },
  {
   "cell_type": "code",
   "execution_count": 24,
   "id": "5cbbbf91-7684-44d8-982d-c23c4ef19745",
   "metadata": {},
   "outputs": [
    {
     "name": "stderr",
     "output_type": "stream",
     "text": [
      "/usr/local/lib/python3.9/dist-packages/keras/optimizers/optimizer_v2/adam.py:110: UserWarning: The `lr` argument is deprecated, use `learning_rate` instead.\n",
      "  super(Adam, self).__init__(name, **kwargs)\n"
     ]
    }
   ],
   "source": [
    "model.compile(\n",
    "    loss = keras.losses.SparseCategoricalCrossentropy(from_logits=True),\n",
    "    optimizer = keras.optimizers.Adam(lr=0.001),\n",
    "    metrics=['accuracy']\n",
    ")"
   ]
  },
  {
   "cell_type": "code",
   "execution_count": 25,
   "id": "f621df3b-454a-4dff-b7a1-fef1737b7513",
   "metadata": {},
   "outputs": [
    {
     "name": "stdout",
     "output_type": "stream",
     "text": [
      "Epoch 1/10\n",
      "938/938 - 38s - loss: 0.2531 - accuracy: 0.9178 - 38s/epoch - 40ms/step\n",
      "Epoch 2/10\n",
      "938/938 - 31s - loss: 0.0751 - accuracy: 0.9773 - 31s/epoch - 33ms/step\n",
      "Epoch 3/10\n",
      "938/938 - 31s - loss: 0.0535 - accuracy: 0.9840 - 31s/epoch - 33ms/step\n",
      "Epoch 4/10\n",
      "938/938 - 30s - loss: 0.0405 - accuracy: 0.9874 - 30s/epoch - 32ms/step\n",
      "Epoch 5/10\n",
      "938/938 - 31s - loss: 0.0331 - accuracy: 0.9898 - 31s/epoch - 33ms/step\n",
      "Epoch 6/10\n",
      "938/938 - 31s - loss: 0.0279 - accuracy: 0.9915 - 31s/epoch - 33ms/step\n",
      "Epoch 7/10\n",
      "938/938 - 30s - loss: 0.0228 - accuracy: 0.9930 - 30s/epoch - 32ms/step\n",
      "Epoch 8/10\n",
      "938/938 - 31s - loss: 0.0195 - accuracy: 0.9937 - 31s/epoch - 33ms/step\n",
      "Epoch 9/10\n",
      "938/938 - 30s - loss: 0.0179 - accuracy: 0.9945 - 30s/epoch - 32ms/step\n",
      "Epoch 10/10\n",
      "938/938 - 30s - loss: 0.0152 - accuracy: 0.9948 - 30s/epoch - 32ms/step\n"
     ]
    },
    {
     "data": {
      "text/plain": [
       "<keras.callbacks.History at 0x7fdadc316fd0>"
      ]
     },
     "execution_count": 25,
     "metadata": {},
     "output_type": "execute_result"
    }
   ],
   "source": [
    "model.fit(x_train, y_train, batch_size=64, epochs=10, verbose=2)"
   ]
  },
  {
   "cell_type": "code",
   "execution_count": null,
   "id": "925ca11c-b21c-49c4-8038-fb7aca52f902",
   "metadata": {},
   "outputs": [],
   "source": []
  }
 ],
 "metadata": {
  "kernelspec": {
   "display_name": "Python 3 (ipykernel)",
   "language": "python",
   "name": "python3"
  },
  "language_info": {
   "codemirror_mode": {
    "name": "ipython",
    "version": 3
   },
   "file_extension": ".py",
   "mimetype": "text/x-python",
   "name": "python",
   "nbconvert_exporter": "python",
   "pygments_lexer": "ipython3",
   "version": "3.9.13"
  }
 },
 "nbformat": 4,
 "nbformat_minor": 5
}
