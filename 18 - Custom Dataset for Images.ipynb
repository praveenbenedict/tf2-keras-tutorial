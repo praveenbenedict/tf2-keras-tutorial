{
 "cells": [
  {
   "cell_type": "code",
   "execution_count": 2,
   "id": "01f54d0d-c3b0-4b01-a78c-58b488d902b5",
   "metadata": {},
   "outputs": [],
   "source": [
    "import os\n",
    "import tensorflow as tf\n",
    "from tensorflow import keras\n",
    "from tensorflow.keras import layers\n",
    "from tensorflow.keras.preprocessing.image import ImageDataGenerator"
   ]
  },
  {
   "cell_type": "code",
   "execution_count": 3,
   "id": "d587ff65-1fb6-4b15-a31b-44a43d3f55af",
   "metadata": {},
   "outputs": [],
   "source": [
    "os.environ['TF_CPP_MIN_LOG_LEVEL'] = '2'\n",
    "physical_devices = tf.config.list_physical_devices(\"GPU\")\n",
    "tf.config.experimental.set_memory_growth(physical_devices[0], True)"
   ]
  },
  {
   "cell_type": "code",
   "execution_count": null,
   "id": "a75784af-201d-4452-a9d4-756d1d809f20",
   "metadata": {},
   "outputs": [],
   "source": []
  },
  {
   "cell_type": "code",
   "execution_count": null,
   "id": "a1c77e5a-fde5-4d40-91d2-3a44d6daaefd",
   "metadata": {},
   "outputs": [],
   "source": []
  },
  {
   "cell_type": "code",
   "execution_count": 4,
   "id": "7db4b381-8704-46a3-914d-f159940b60c1",
   "metadata": {},
   "outputs": [],
   "source": [
    "image_height = 28\n",
    "image_width = 28\n",
    "batch_size = 2"
   ]
  },
  {
   "cell_type": "code",
   "execution_count": 5,
   "id": "d218e056-f2ba-4a54-b7a2-a2705066c3c7",
   "metadata": {},
   "outputs": [],
   "source": [
    "model = keras.Sequential([\n",
    "    layers.Input((28, 28, 1)),\n",
    "    layers.Conv2D(16, 3, padding='same'),\n",
    "    layers.Conv2D(32, 2, padding='same'),\n",
    "    layers.MaxPooling2D(),\n",
    "    layers.Flatten(),\n",
    "    layers.Dense(10)\n",
    "])"
   ]
  },
  {
   "cell_type": "code",
   "execution_count": null,
   "id": "83112012-e1f6-4ee9-95b3-908583637dba",
   "metadata": {},
   "outputs": [],
   "source": []
  },
  {
   "cell_type": "code",
   "execution_count": null,
   "id": "ca6cfc41-283b-4a40-ab29-f7819c0d9776",
   "metadata": {},
   "outputs": [],
   "source": []
  },
  {
   "cell_type": "code",
   "execution_count": 7,
   "id": "fb0d0696-7a0b-4e0d-b1c3-70a8ff64ce23",
   "metadata": {},
   "outputs": [
    {
     "name": "stdout",
     "output_type": "stream",
     "text": [
      "Found 50 files belonging to 10 classes.\n",
      "Using 45 files for training.\n",
      "Found 50 files belonging to 10 classes.\n",
      "Using 5 files for validation.\n"
     ]
    }
   ],
   "source": [
    "ds_train = tf.keras.preprocessing.image_dataset_from_directory(\n",
    "    'data/mnist_subfolders/',\n",
    "    labels='inferred',\n",
    "    label_mode='int',\n",
    "    color_mode='grayscale',\n",
    "    batch_size=batch_size,\n",
    "    image_size=(image_height, image_width),\n",
    "    shuffle=True,\n",
    "    seed=123,\n",
    "    validation_split=0.1,\n",
    "    subset='training'\n",
    ")\n",
    "ds_valid = tf.keras.preprocessing.image_dataset_from_directory(\n",
    "    'data/mnist_subfolders/',\n",
    "    labels='inferred',\n",
    "    label_mode='int',\n",
    "    color_mode='grayscale',\n",
    "    batch_size=batch_size,\n",
    "    image_size=(image_height, image_width),\n",
    "    shuffle=True,\n",
    "    seed=123,\n",
    "    validation_split=0.1,\n",
    "    subset='validation'\n",
    ")"
   ]
  },
  {
   "cell_type": "code",
   "execution_count": 10,
   "id": "2e1baa6b-448d-4c51-a51e-feaa4b861f1f",
   "metadata": {},
   "outputs": [],
   "source": [
    "def augment(x, y):\n",
    "    image = tf.image.random_brightness(x, max_delta=0.05)\n",
    "    return image, y"
   ]
  },
  {
   "cell_type": "code",
   "execution_count": 11,
   "id": "c94f7573-d8b2-462d-a3c9-43453169d2ca",
   "metadata": {},
   "outputs": [],
   "source": [
    "ds_train = ds_train.map(augment)"
   ]
  },
  {
   "cell_type": "code",
   "execution_count": 12,
   "id": "e6173ba3-9d0a-44ca-9fa3-b28eb0e2f8c8",
   "metadata": {},
   "outputs": [],
   "source": [
    "model.compile(\n",
    "    optimizer = keras.optimizers.Adam(),\n",
    "    loss=[\n",
    "        keras.losses.SparseCategoricalCrossentropy(from_logits=True)\n",
    "    ],\n",
    "    metrics=['accuracy']\n",
    ")"
   ]
  },
  {
   "cell_type": "code",
   "execution_count": 13,
   "id": "7042c6de-43d1-4761-aa78-ec1315b53e6f",
   "metadata": {},
   "outputs": [
    {
     "name": "stdout",
     "output_type": "stream",
     "text": [
      "Epoch 1/10\n",
      "23/23 - 2s - loss: 57.5774 - accuracy: 0.1556 - 2s/epoch - 69ms/step\n",
      "Epoch 2/10\n",
      "23/23 - 0s - loss: 4.1695 - accuracy: 0.8667 - 64ms/epoch - 3ms/step\n",
      "Epoch 3/10\n",
      "23/23 - 0s - loss: 0.2623 - accuracy: 0.9556 - 66ms/epoch - 3ms/step\n",
      "Epoch 4/10\n",
      "23/23 - 0s - loss: 0.0000e+00 - accuracy: 1.0000 - 67ms/epoch - 3ms/step\n",
      "Epoch 5/10\n",
      "23/23 - 0s - loss: 0.0000e+00 - accuracy: 1.0000 - 61ms/epoch - 3ms/step\n",
      "Epoch 6/10\n",
      "23/23 - 0s - loss: 0.0000e+00 - accuracy: 1.0000 - 60ms/epoch - 3ms/step\n",
      "Epoch 7/10\n",
      "23/23 - 0s - loss: 0.0000e+00 - accuracy: 1.0000 - 63ms/epoch - 3ms/step\n",
      "Epoch 8/10\n",
      "23/23 - 0s - loss: 0.0000e+00 - accuracy: 1.0000 - 62ms/epoch - 3ms/step\n",
      "Epoch 9/10\n",
      "23/23 - 0s - loss: 0.0000e+00 - accuracy: 1.0000 - 64ms/epoch - 3ms/step\n",
      "Epoch 10/10\n",
      "23/23 - 0s - loss: 0.0000e+00 - accuracy: 1.0000 - 63ms/epoch - 3ms/step\n"
     ]
    },
    {
     "data": {
      "text/plain": [
       "<keras.callbacks.History at 0x7f24045f66d0>"
      ]
     },
     "execution_count": 13,
     "metadata": {},
     "output_type": "execute_result"
    }
   ],
   "source": [
    "model.fit(ds_train, epochs=10, verbose=2)"
   ]
  },
  {
   "cell_type": "code",
   "execution_count": null,
   "id": "a1753b7c-fcb0-4326-b6e4-a10d4bfb42a1",
   "metadata": {},
   "outputs": [],
   "source": []
  },
  {
   "cell_type": "code",
   "execution_count": null,
   "id": "e7c5ddda-d279-4846-ae17-4928573b072b",
   "metadata": {},
   "outputs": [],
   "source": []
  },
  {
   "cell_type": "code",
   "execution_count": 15,
   "id": "2a8ab6df-e414-4ab6-80c3-76c346fd67d5",
   "metadata": {},
   "outputs": [],
   "source": [
    "datagen = ImageDataGenerator(\n",
    "    rescale=1./255.,\n",
    "    rotation_range=5,\n",
    "    zoom_range=(0.99, 0.99),\n",
    "    horizontal_flip=False, \n",
    "    vertical_flip=False, \n",
    "    data_format='channels_last',\n",
    "    validation_split=0.0,\n",
    "    dtype=tf.float32\n",
    ")"
   ]
  },
  {
   "cell_type": "code",
   "execution_count": 16,
   "id": "e1a18f93-1270-46f2-8928-eb2b547b1296",
   "metadata": {},
   "outputs": [
    {
     "name": "stdout",
     "output_type": "stream",
     "text": [
      "Found 50 images belonging to 10 classes.\n"
     ]
    }
   ],
   "source": [
    "train_generator = datagen.flow_from_directory(\n",
    "    'data/mnist_subfolders/',\n",
    "    target_size=(image_height, image_width),\n",
    "    batch_size=batch_size,\n",
    "    color_mode='grayscale',\n",
    "    class_mode='sparse',\n",
    "    shuffle=True, \n",
    "    subset='training',\n",
    "    seed=123\n",
    ")"
   ]
  },
  {
   "cell_type": "code",
   "execution_count": 17,
   "id": "d964bb05-3c98-44dd-a992-fcff1f123ca1",
   "metadata": {},
   "outputs": [],
   "source": [
    "model.compile(\n",
    "    optimizer = keras.optimizers.Adam(),\n",
    "    loss=[\n",
    "        keras.losses.SparseCategoricalCrossentropy(from_logits=True)\n",
    "    ],\n",
    "    metrics=['accuracy']\n",
    ")"
   ]
  },
  {
   "cell_type": "code",
   "execution_count": null,
   "id": "504c5992-ab8d-4252-834f-441e06360100",
   "metadata": {},
   "outputs": [],
   "source": [
    "model.fit(\n",
    "    train_generatorerator, \n",
    "    epochs=10, \n",
    "    steps_per_epoch=25,\n",
    "    verbose=2,\n",
    "    #validation_data=validation_generator,\n",
    "    #validation_steps=len(validation_set)/batch_size\n",
    ")"
   ]
  }
 ],
 "metadata": {
  "kernelspec": {
   "display_name": "Python 3 (ipykernel)",
   "language": "python",
   "name": "python3"
  },
  "language_info": {
   "codemirror_mode": {
    "name": "ipython",
    "version": 3
   },
   "file_extension": ".py",
   "mimetype": "text/x-python",
   "name": "python",
   "nbconvert_exporter": "python",
   "pygments_lexer": "ipython3",
   "version": "3.9.13"
  }
 },
 "nbformat": 4,
 "nbformat_minor": 5
}
